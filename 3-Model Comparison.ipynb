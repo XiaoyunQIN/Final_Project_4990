{
 "cells": [
  {
   "cell_type": "markdown",
   "metadata": {},
   "source": [
    "# Library"
   ]
  },
  {
   "cell_type": "code",
   "execution_count": 11,
   "metadata": {},
   "outputs": [],
   "source": [
    "import os\n",
    "from math import radians, cos, sin, asin, sqrt\n",
    "import pandas as pd\n",
    "import numpy as np\n",
    "import matplotlib.pyplot as plt\n",
    "from sklearn.cluster import MiniBatchKMeans \n",
    "import xgboost as xgb\n",
    "from datetime import datetime  \n",
    "from sklearn.model_selection import train_test_split\n",
    "import random\n",
    "from sklearn.metrics import mean_squared_error\n",
    "import seaborn as sns\n",
    "import matplotlib\n",
    "from sklearn.metrics import mean_squared_log_error\n",
    "\n",
    "\n",
    "from sklearn.tree import DecisionTreeRegressor\n",
    "from sklearn.model_selection import GridSearchCV\n",
    "from sklearn.datasets import load_iris\n",
    "from sklearn import tree\n",
    "from sklearn.metrics import make_scorer\n",
    "from sklearn import preprocessing\n",
    "from sklearn.metrics import r2_score\n",
    "from statistics import stdev\n",
    "from statistics import mean\n",
    "from sklearn.model_selection import KFold\n",
    "import warnings\n",
    "warnings.simplefilter(action='ignore', category=FutureWarning)\n",
    "from sklearn.metrics import accuracy_score\n",
    "\n",
    "\n",
    "\n",
    "# from keras.models import Sequential\n",
    "# from keras.layers import Dense, Dropout\n",
    "# from keras.wrappers.scikit_learn import KerasRegressor\n",
    "# from keras import losses\n",
    "# from keras import optimizers\n",
    "# from sklearn.model_selection import cross_val_score\n",
    "# from sklearn.preprocessing import StandardScaler\n",
    "# from sklearn.pipeline import Pipeline\n",
    "# from keras.utils import plot_model\n",
    "# from keras.models import load_model\n",
    "# import keras.backend as K\n",
    "# import tensorflow as tf\n",
    "\n",
    "\n",
    "import os\n",
    "from math import radians, cos, sin, asin, sqrt, log\n",
    "import pandas as pd\n",
    "import numpy as np\n",
    "import matplotlib.pyplot as plt\n",
    "import random\n"
   ]
  },
  {
   "cell_type": "markdown",
   "metadata": {},
   "source": [
    "# Function"
   ]
  },
  {
   "cell_type": "code",
   "execution_count": 5,
   "metadata": {},
   "outputs": [],
   "source": [
    "# define my own custom loss function\n",
    "def rmsle_loss(y_pred, y_true): \n",
    "    y_pred = tf.convert_to_tensor(y_pred, np.float32)\n",
    "    y_true = tf.convert_to_tensor(y_true, np.float32)\n",
    "    first_log = K.log(K.clip(y_pred, K.epsilon(), None) + 1.)\n",
    "    second_log = K.log(K.clip(y_true, K.epsilon(), None) + 1.)\n",
    "    return K.sqrt(K.mean(K.square(first_log - second_log), axis=-1))\n",
    "\n",
    "# define my own custom score function\n",
    "def rmsle(y_true, y_pred):\n",
    "    y_pred = list(map(lambda x:x if x>0 else 0.000001, y_pred))\n",
    "    first_log = np.log(y_pred)\n",
    "    second_log = np.log(y_true)\n",
    "    return np.sqrt(np.mean(np.square(first_log - second_log)))\n",
    "rmsle_socre = make_scorer(rmsle, greater_is_better=False)\n",
    "\n",
    "def create_model(input_dim = 73, nodes_num=[256]):\n",
    "    n = len(nodes_num)\n",
    "    # create model\n",
    "    model = Sequential()\n",
    "    for i in range(n):\n",
    "        if i == 0:\n",
    "            model.add(Dense(nodes_num[i], input_dim=input_dim, activation='relu', kernel_initializer='normal'))\n",
    "        else :\n",
    "            model.add(Dense(nodes_num[i], activation='relu', kernel_initializer='normal'))\n",
    "    model.add(Dense(1, kernel_initializer='normal'))\n",
    "    # Compile model\n",
    "    model.compile(loss=losses.mean_squared_logarithmic_error, optimizer='adam', metrics=[rmsle_loss])\n",
    "    return model\n",
    "\n",
    "# using GridSearchCv to find proper parameters\n",
    "def My_GridSearchCV(grid_params, X, Y):\n",
    "    # create model\n",
    "    model = KerasRegressor(build_fn=create_model, epochs=50, batch_size=50, verbose=0)\n",
    "    grid = GridSearchCV(estimator=model, param_grid=grid_params, cv=3, scoring = rmsle_socre, verbose=10)\n",
    "    grid_result = grid.fit(X, Y)\n",
    "    return grid_result\n",
    "\n",
    "# summarize grid reseach cv results\n",
    "def Summary_GridResult(grid_result):\n",
    "    # grid_result.cv_results_\n",
    "    print(\"Best: %f using %s\" % (grid_result.best_score_, grid_result.best_params_))\n",
    "    means = grid_result.cv_results_['mean_test_score']\n",
    "    stds = grid_result.cv_results_['std_test_score']\n",
    "    params = grid_result.cv_results_['params']\n",
    "    for mean, std, param in zip(means, stds, params):\n",
    "        print(\"mean: %f, std: %f, with: %r\" % (mean, std, param))    \n",
    "    \n",
    "\n",
    "\n",
    "\n",
    "def load_data(path) :\n",
    "    data = pd.read_csv(path) \n",
    "    # basic data cleaning. drop useless columns\n",
    "    data.loc[data.Parallel_Distance.isnull(), 'Parallel_Distance'] = data[data['Parallel_Distance'].isnull()]['distance_in_km'].values\n",
    "    data = data.drop(['date_of_year','date_of_year2','mo','da'], axis=1)\n",
    "    return (data)\n",
    "\n",
    "def extract_time (data):\n",
    "    data['pickup_datetime'] = pd.to_datetime(data.pickup_datetime)  \n",
    "    data.loc[:,'pickup_day'] =  data['pickup_datetime'].dt.day\n",
    "    data.loc[:,'pickup_month'] =  data['pickup_datetime'].dt.month\n",
    "    data.loc[:,'pickup_hour'] =  data['pickup_datetime'].dt.hour\n",
    "    data.loc[:,'pickup_weekday'] =  data['pickup_datetime'].dt.weekday+1\n",
    "    data.loc[:,'log_travel_time'] =  np.log(data['travel_time'].values+1)\n",
    "    \n",
    "    return(data)\n",
    "\n",
    "def add_avg_speed(data, group,name) :\n",
    "    avg_speed = pd.DataFrame(data.groupby(group)['speed'].mean())\n",
    "    avg_speed = avg_speed_h.rename(columns={'speed':name})\n",
    "    return (avg_speed)\n",
    "\n",
    "# Transfrom categorical variables into dummy variables using one hot encode\n",
    "def dummy_one_hot (data):\n",
    "    passenger_count = pd.get_dummies(data['passenger_count'], prefix='pc', prefix_sep='_')  \n",
    "    cluster_pickup = pd.get_dummies(data['pickup_cluster'], prefix='p', prefix_sep='_')  \n",
    "    cluster_dropoff = pd.get_dummies(data['dropoff_cluster'], prefix='d', prefix_sep='_')  \n",
    "    #month = pd.get_dummies(data['pickup_month'], prefix='m', prefix_sep='_')   \n",
    "    dom = pd.get_dummies(data['pickup_day'], prefix='dom', prefix_sep='_')  \n",
    "    hour = pd.get_dummies(data['pickup_hour'], prefix='h', prefix_sep='_')  \n",
    "    dow = pd.get_dummies(data['pickup_weekday'], prefix='dow', prefix_sep='_')  \n",
    "    # drop unnecessary variables\n",
    "    data = data.drop(['passenger_count','pickup_month','pickup_day','pickup_hour','pickup_weekday',  \n",
    "                   'pickup_longitude','pickup_latitude','dropoff_longitude','dropoff_latitude','pickup_datetime', \n",
    "                              'trip_distance','travel_time','speed'], axis=1)\n",
    "    # merge dummy variables to the origin dataset\n",
    "    data = pd.concat([data,  \n",
    "                          passenger_count,\n",
    "                          cluster_pickup,\n",
    "                          cluster_dropoff,\n",
    "                          dom, hour, dow], axis=1)\n",
    "    \n",
    "    return(data)\n",
    "\n",
    "def col_consistant(data,cluster_num):\n",
    "    cluster = range(1,cluster_num,1)\n",
    "    cluster_dummy_p = pd.get_dummies(cluster, prefix='p', prefix_sep='_')  \n",
    "    cluster_dummy_d = pd.get_dummies(cluster, prefix='d', prefix_sep='_')  \n",
    "    cluster_dummy = pd.concat([cluster_dummy_p, cluster_dummy_d], axis=1)\n",
    "    passenger = range(1,9,1)\n",
    "    passenger_dummy = pd.get_dummies(passenger, prefix='pc', prefix_sep='_') \n",
    "    whole = pd.concat([cluster_dummy, passenger_dummy], axis=1)\n",
    "    # let two dataset has the same columns\n",
    "    larger_colnames = whole.columns.values.tolist()\n",
    "    smaller_colnames = data.columns.values.tolist()\n",
    "    ret = list(set(larger_colnames).difference(set(smaller_colnames)))\n",
    "    d = pd.DataFrame(0, index=np.arange(data.shape[0]), columns=ret)\n",
    "    data = pd.concat([data,  \n",
    "                          d], axis=1)\n",
    "    return(data)\n",
    "\n",
    "def dummy_one_hot1 (data):\n",
    "    passenger_count = pd.get_dummies(data['passenger_count'], prefix='pc', prefix_sep='_')  \n",
    "    dom = pd.get_dummies(data['pickup_day'], prefix='dom', prefix_sep='_')  \n",
    "    hour = pd.get_dummies(data['pickup_hour'], prefix='h', prefix_sep='_')  \n",
    "    dow = pd.get_dummies(data['pickup_weekday'], prefix='dow', prefix_sep='_')  \n",
    "    # drop unnecessary variables\n",
    "    data = data.drop(['passenger_count','pickup_month','pickup_day','pickup_hour','pickup_weekday',  \n",
    "                   'pickup_longitude','pickup_latitude','dropoff_longitude','dropoff_latitude','pickup_datetime', \n",
    "                              'trip_distance','log_travel_time','speed'], axis=1)\n",
    "    # merge dummy variables to the origin dataset\n",
    "    data = pd.concat([data,  \n",
    "                          passenger_count,\n",
    "                          dom, hour, dow], axis=1)\n",
    "    \n",
    "    return(data)\n",
    "\n",
    "def col_consistant1(data):\n",
    "   \n",
    "    passenger = range(1,9,1)\n",
    "    passenger_dummy = pd.get_dummies(passenger, prefix='pc', prefix_sep='_') \n",
    "    # let two dataset has the same columns\n",
    "    larger_colnames = passenger_dummy.columns.values.tolist()\n",
    "    smaller_colnames = data.columns.values.tolist()\n",
    "    ret = list(set(larger_colnames).difference(set(smaller_colnames)))\n",
    "    d = pd.DataFrame(0, index=np.arange(data.shape[0]), columns=ret)\n",
    "    data = pd.concat([data,  \n",
    "                          d], axis=1)\n",
    "    return(data)\n",
    "\n",
    "def modelcompare(xgb,bp,dtree,lasso):\n",
    "    rmsle = pd.DataFrame([np.sqrt(mean_squared_log_error(xgb[\"log_travel_time\"], xgb[\"predictions-XGB\"])),\n",
    "          np.sqrt(mean_squared_log_error(bp[\"true_value\"], bp[\"predictions-BPNN\"])),\n",
    "          np.sqrt(mean_squared_log_error(dtree[\"travel_time\"], dtree[\"predictions-decistion tree\"])),\n",
    "          np.sqrt(mean_squared_log_error(lasso[\"travel_time\"], lasso[\"predictions-lasso\"]))])\n",
    "    rmse = pd.DataFrame([np.sqrt(mean_squared_error(xgb[\"log_travel_time\"], xgb[\"predictions-XGB\"])),\n",
    "          np.sqrt(mean_squared_error(bp[\"true_value\"], bp[\"predictions-BPNN\"])),\n",
    "          np.sqrt(mean_squared_error(dtree[\"travel_time\"], dtree[\"predictions-decistion tree\"])),\n",
    "          np.sqrt(mean_squared_error(lasso[\"travel_time\"], lasso[\"predictions-lasso\"]))])\n",
    "    r2 = pd.DataFrame([r2_score(xgb[\"log_travel_time\"], xgb[\"predictions-XGB\"]),\n",
    "          r2_score(bp[\"true_value\"], bp[\"predictions-BPNN\"]),\n",
    "          r2_score(dtree[\"travel_time\"], dtree[\"predictions-decistion tree\"]),\n",
    "          r2_score(lasso[\"travel_time\"], lasso[\"predictions-lasso\"])])\n",
    "    row = pd.DataFrame([\"XGB\",\"BP NN\",\"Decision Tree\",\"Lasso\"])\n",
    "    result_compare = pd.concat([row,rmsle,rmse,r2],axis=1)\n",
    "    result_compare.columns = [\"Model\",\"RMSLE\",\"RMSE\",\"R2\"]\n",
    "    return(result_compare)"
   ]
  },
  {
   "cell_type": "markdown",
   "metadata": {},
   "source": [
    "# Load data"
   ]
  },
  {
   "cell_type": "code",
   "execution_count": 6,
   "metadata": {},
   "outputs": [],
   "source": [
    "path = \"taxi_data.csv\"\n",
    "taxi_data = load_data(path)"
   ]
  },
  {
   "cell_type": "markdown",
   "metadata": {},
   "source": [
    "# Step1 Split data into training and testing data"
   ]
  },
  {
   "cell_type": "markdown",
   "metadata": {},
   "source": [
    "We split the taxi data to traning and testing. We would use traning data to bulid model and make predictions on testing data. We would calculate the MSLE between the real value and predict value."
   ]
  },
  {
   "cell_type": "code",
   "execution_count": 7,
   "metadata": {},
   "outputs": [],
   "source": [
    "training, testing  = train_test_split(taxi_data,test_size=0.2, random_state=535)\n",
    "training = training.reset_index()\n",
    "testing = testing.reset_index()"
   ]
  },
  {
   "cell_type": "markdown",
   "metadata": {},
   "source": [
    "# Step2 Using K-Means to cluster the pickup & dropoff locations\n",
    "\n",
    "We will use **MiniBatchKMeans** function to cluster pickup&dropoff location into 500 categories."
   ]
  },
  {
   "cell_type": "code",
   "execution_count": 8,
   "metadata": {},
   "outputs": [],
   "source": [
    "coords = np.vstack((training[['pickup_latitude', 'pickup_longitude']].values,  \n",
    "                    training[['dropoff_latitude', 'dropoff_longitude']].values))\n",
    "# cluster pickup&dropoff location into 500 categories\n",
    "kmeans = MiniBatchKMeans(n_clusters=500, batch_size=10000).fit(coords)  \n",
    "# calculte cluster in training\n",
    "training.loc[:, 'pickup_cluster'] = kmeans.predict(training[['pickup_latitude', 'pickup_longitude']])  \n",
    "training.loc[:, 'dropoff_cluster'] = kmeans.predict(training[['dropoff_latitude', 'dropoff_longitude']])  \n",
    "# calculte cluster in testing\n",
    "testing.loc[:, 'pickup_cluster'] = kmeans.predict(testing[['pickup_latitude', 'pickup_longitude']])  \n",
    "testing.loc[:, 'dropoff_cluster'] = kmeans.predict(testing[['dropoff_latitude', 'dropoff_longitude']])  "
   ]
  },
  {
   "cell_type": "code",
   "execution_count": 9,
   "metadata": {
    "scrolled": true
   },
   "outputs": [
    {
     "data": {
      "image/png": "[encoded data removed]",
      "text/plain": [
       "<Figure size 432x288 with 1 Axes>"
      ]
     },
     "metadata": {},
     "output_type": "display_data"
    }
   ],
   "source": [
    "# graph\n",
    "plt.scatter(training.pickup_longitude.values, training.pickup_latitude.values, s=10, lw=0,  \n",
    "           c=training.pickup_cluster.values, cmap='autumn', alpha=0.2)\n",
    "city_long_border = (-74.03, -73.75)  \n",
    "city_lat_border = (40.63, 40.85)  \n",
    "plt.xlim(city_long_border)  \n",
    "plt.ylim(city_lat_border)  \n",
    "plt.xlabel('Longitude')  \n",
    "plt.ylabel('Latitude')  \n",
    "plt.show()  "
   ]
  },
  {
   "cell_type": "markdown",
   "metadata": {},
   "source": [
    "# Step3 Add more features into the model"
   ]
  },
  {
   "cell_type": "markdown",
   "metadata": {},
   "source": [
    "## 3.1 Add **time** as new features into the model"
   ]
  },
  {
   "cell_type": "code",
   "execution_count": 10,
   "metadata": {
    "scrolled": true
   },
   "outputs": [
    {
     "data": {
      "text/html": [
       "<div>\n",
       "<style scoped>\n",
       "    .dataframe tbody tr th:only-of-type {\n",
       "        vertical-align: middle;\n",
       "    }\n",
       "\n",
       "    .dataframe tbody tr th {\n",
       "        vertical-align: top;\n",
       "    }\n",
       "\n",
       "    .dataframe thead th {\n",
       "        text-align: right;\n",
       "    }\n",
       "</style>\n",
       "<table border=\"1\" class=\"dataframe\">\n",
       "  <thead>\n",
       "    <tr style=\"text-align: right;\">\n",
       "      <th></th>\n",
       "      <th>index</th>\n",
       "      <th>pickup_datetime</th>\n",
       "      <th>travel_time</th>\n",
       "      <th>trip_distance</th>\n",
       "      <th>pickup_latitude</th>\n",
       "      <th>pickup_longitude</th>\n",
       "      <th>dropoff_latitude</th>\n",
       "      <th>dropoff_longitude</th>\n",
       "      <th>passenger_count</th>\n",
       "      <th>distance_in_km</th>\n",
       "      <th>...</th>\n",
       "      <th>common_holiday</th>\n",
       "      <th>key_holiday</th>\n",
       "      <th>logrtn</th>\n",
       "      <th>pickup_cluster</th>\n",
       "      <th>dropoff_cluster</th>\n",
       "      <th>pickup_day</th>\n",
       "      <th>pickup_month</th>\n",
       "      <th>pickup_hour</th>\n",
       "      <th>pickup_weekday</th>\n",
       "      <th>log_travel_time</th>\n",
       "    </tr>\n",
       "  </thead>\n",
       "  <tbody>\n",
       "    <tr>\n",
       "      <th>0</th>\n",
       "      <td>197614</td>\n",
       "      <td>2016-05-16 21:12:09</td>\n",
       "      <td>908</td>\n",
       "      <td>1.98</td>\n",
       "      <td>40.768913</td>\n",
       "      <td>-73.985291</td>\n",
       "      <td>40.750263</td>\n",
       "      <td>-74.004883</td>\n",
       "      <td>1</td>\n",
       "      <td>2.646645</td>\n",
       "      <td>...</td>\n",
       "      <td>1</td>\n",
       "      <td>0</td>\n",
       "      <td>0.974898</td>\n",
       "      <td>183</td>\n",
       "      <td>40</td>\n",
       "      <td>16</td>\n",
       "      <td>5</td>\n",
       "      <td>21</td>\n",
       "      <td>1</td>\n",
       "      <td>6.812345</td>\n",
       "    </tr>\n",
       "    <tr>\n",
       "      <th>1</th>\n",
       "      <td>422527</td>\n",
       "      <td>2016-02-23 08:07:46</td>\n",
       "      <td>631</td>\n",
       "      <td>1.23</td>\n",
       "      <td>40.776291</td>\n",
       "      <td>-73.961807</td>\n",
       "      <td>40.761127</td>\n",
       "      <td>-73.971237</td>\n",
       "      <td>1</td>\n",
       "      <td>1.861236</td>\n",
       "      <td>...</td>\n",
       "      <td>0</td>\n",
       "      <td>0</td>\n",
       "      <td>-1.253258</td>\n",
       "      <td>478</td>\n",
       "      <td>334</td>\n",
       "      <td>23</td>\n",
       "      <td>2</td>\n",
       "      <td>8</td>\n",
       "      <td>2</td>\n",
       "      <td>6.448889</td>\n",
       "    </tr>\n",
       "    <tr>\n",
       "      <th>2</th>\n",
       "      <td>25550</td>\n",
       "      <td>2016-01-23 11:11:56</td>\n",
       "      <td>895</td>\n",
       "      <td>1.80</td>\n",
       "      <td>40.724461</td>\n",
       "      <td>-73.993164</td>\n",
       "      <td>40.745010</td>\n",
       "      <td>-73.978615</td>\n",
       "      <td>1</td>\n",
       "      <td>2.589596</td>\n",
       "      <td>...</td>\n",
       "      <td>0</td>\n",
       "      <td>0</td>\n",
       "      <td>0.000000</td>\n",
       "      <td>267</td>\n",
       "      <td>260</td>\n",
       "      <td>23</td>\n",
       "      <td>1</td>\n",
       "      <td>11</td>\n",
       "      <td>6</td>\n",
       "      <td>6.797940</td>\n",
       "    </tr>\n",
       "    <tr>\n",
       "      <th>3</th>\n",
       "      <td>293367</td>\n",
       "      <td>2016-06-27 13:31:47</td>\n",
       "      <td>520</td>\n",
       "      <td>1.10</td>\n",
       "      <td>40.744225</td>\n",
       "      <td>-73.984749</td>\n",
       "      <td>40.755836</td>\n",
       "      <td>-73.983467</td>\n",
       "      <td>2</td>\n",
       "      <td>1.293948</td>\n",
       "      <td>...</td>\n",
       "      <td>0</td>\n",
       "      <td>0</td>\n",
       "      <td>-1.826225</td>\n",
       "      <td>312</td>\n",
       "      <td>86</td>\n",
       "      <td>27</td>\n",
       "      <td>6</td>\n",
       "      <td>13</td>\n",
       "      <td>1</td>\n",
       "      <td>6.255750</td>\n",
       "    </tr>\n",
       "    <tr>\n",
       "      <th>4</th>\n",
       "      <td>295712</td>\n",
       "      <td>2016-06-28 22:29:51</td>\n",
       "      <td>587</td>\n",
       "      <td>2.10</td>\n",
       "      <td>40.734615</td>\n",
       "      <td>-74.004715</td>\n",
       "      <td>40.709133</td>\n",
       "      <td>-74.005531</td>\n",
       "      <td>1</td>\n",
       "      <td>2.830502</td>\n",
       "      <td>...</td>\n",
       "      <td>0</td>\n",
       "      <td>0</td>\n",
       "      <td>1.761412</td>\n",
       "      <td>146</td>\n",
       "      <td>71</td>\n",
       "      <td>28</td>\n",
       "      <td>6</td>\n",
       "      <td>22</td>\n",
       "      <td>2</td>\n",
       "      <td>6.376727</td>\n",
       "    </tr>\n",
       "  </tbody>\n",
       "</table>\n",
       "<p>5 rows × 45 columns</p>\n",
       "</div>"
      ],
      "text/plain": [
       "    index     pickup_datetime  travel_time  trip_distance  pickup_latitude  \\\n",
       "0  197614 2016-05-16 21:12:09          908           1.98        40.768913   \n",
       "1  422527 2016-02-23 08:07:46          631           1.23        40.776291   \n",
       "2   25550 2016-01-23 11:11:56          895           1.80        40.724461   \n",
       "3  293367 2016-06-27 13:31:47          520           1.10        40.744225   \n",
       "4  295712 2016-06-28 22:29:51          587           2.10        40.734615   \n",
       "\n",
       "   pickup_longitude  dropoff_latitude  dropoff_longitude  passenger_count  \\\n",
       "0        -73.985291         40.750263         -74.004883                1   \n",
       "1        -73.961807         40.761127         -73.971237                1   \n",
       "2        -73.993164         40.745010         -73.978615                1   \n",
       "3        -73.984749         40.755836         -73.983467                2   \n",
       "4        -74.004715         40.709133         -74.005531                1   \n",
       "\n",
       "   distance_in_km       ...         common_holiday  key_holiday    logrtn  \\\n",
       "0        2.646645       ...                      1            0  0.974898   \n",
       "1        1.861236       ...                      0            0 -1.253258   \n",
       "2        2.589596       ...                      0            0  0.000000   \n",
       "3        1.293948       ...                      0            0 -1.826225   \n",
       "4        2.830502       ...                      0            0  1.761412   \n",
       "\n",
       "   pickup_cluster  dropoff_cluster  pickup_day  pickup_month  pickup_hour  \\\n",
       "0             183               40          16             5           21   \n",
       "1             478              334          23             2            8   \n",
       "2             267              260          23             1           11   \n",
       "3             312               86          27             6           13   \n",
       "4             146               71          28             6           22   \n",
       "\n",
       "   pickup_weekday  log_travel_time  \n",
       "0               1         6.812345  \n",
       "1               2         6.448889  \n",
       "2               6         6.797940  \n",
       "3               1         6.255750  \n",
       "4               2         6.376727  \n",
       "\n",
       "[5 rows x 45 columns]"
      ]
     },
     "execution_count": 10,
     "metadata": {},
     "output_type": "execute_result"
    }
   ],
   "source": [
    "# Extract time in training dataset\n",
    "training_features = extract_time(training)\n",
    "# Extract time in testing dataset\n",
    "testing_features = extract_time(testing)\n",
    "testing_features.head()"
   ]
  },
  {
   "cell_type": "markdown",
   "metadata": {},
   "source": [
    "# Step4 Convert categorical variables into dummy variables using one hot encode"
   ]
  },
  {
   "cell_type": "code",
   "execution_count": 13,
   "metadata": {
    "scrolled": true
   },
   "outputs": [],
   "source": [
    "# Transfrom categorical variables into dummy variables using one hot encode\n",
    "# training dataset\n",
    "training_dummy = dummy_one_hot(training_features)\n",
    "# testing dataset\n",
    "testing_dummy = dummy_one_hot(testing_features)\n"
   ]
  },
  {
   "cell_type": "code",
   "execution_count": 12,
   "metadata": {
    "scrolled": true
   },
   "outputs": [
    {
     "data": {
      "text/html": [
       "<div>\n",
       "<style scoped>\n",
       "    .dataframe tbody tr th:only-of-type {\n",
       "        vertical-align: middle;\n",
       "    }\n",
       "\n",
       "    .dataframe tbody tr th {\n",
       "        vertical-align: top;\n",
       "    }\n",
       "\n",
       "    .dataframe thead th {\n",
       "        text-align: right;\n",
       "    }\n",
       "</style>\n",
       "<table border=\"1\" class=\"dataframe\">\n",
       "  <thead>\n",
       "    <tr style=\"text-align: right;\">\n",
       "      <th></th>\n",
       "      <th>distance_in_km</th>\n",
       "      <th>Parallel_Distance</th>\n",
       "      <th>drop_PEN_DISTANCE</th>\n",
       "      <th>drop_LAG_DISTANCE</th>\n",
       "      <th>drop_JFK_DISTANCE</th>\n",
       "      <th>drop_CSMK_DISTANCE</th>\n",
       "      <th>drop_MMOA_DISTANCE</th>\n",
       "      <th>pick_PEN_DISTANCE</th>\n",
       "      <th>pick_LAG_DISTANCE</th>\n",
       "      <th>pick_JFK_DISTANCE</th>\n",
       "      <th>...</th>\n",
       "      <th>dow_1</th>\n",
       "      <th>dow_2</th>\n",
       "      <th>dow_3</th>\n",
       "      <th>dow_4</th>\n",
       "      <th>dow_5</th>\n",
       "      <th>dow_6</th>\n",
       "      <th>dow_7</th>\n",
       "      <th>p_10</th>\n",
       "      <th>p_41</th>\n",
       "      <th>p_233</th>\n",
       "    </tr>\n",
       "  </thead>\n",
       "  <tbody>\n",
       "    <tr>\n",
       "      <th>0</th>\n",
       "      <td>2.646645</td>\n",
       "      <td>3.719166</td>\n",
       "      <td>0.919144</td>\n",
       "      <td>11.401331</td>\n",
       "      <td>22.107418</td>\n",
       "      <td>0.812001</td>\n",
       "      <td>4.815708</td>\n",
       "      <td>2.119784</td>\n",
       "      <td>9.460135</td>\n",
       "      <td>21.958553</td>\n",
       "      <td>...</td>\n",
       "      <td>1</td>\n",
       "      <td>0</td>\n",
       "      <td>0</td>\n",
       "      <td>0</td>\n",
       "      <td>0</td>\n",
       "      <td>0</td>\n",
       "      <td>0</td>\n",
       "      <td>0</td>\n",
       "      <td>0</td>\n",
       "      <td>0</td>\n",
       "    </tr>\n",
       "    <tr>\n",
       "      <th>1</th>\n",
       "      <td>1.861236</td>\n",
       "      <td>2.476971</td>\n",
       "      <td>2.220561</td>\n",
       "      <td>8.384646</td>\n",
       "      <td>20.495702</td>\n",
       "      <td>3.550141</td>\n",
       "      <td>2.131273</td>\n",
       "      <td>3.901086</td>\n",
       "      <td>7.472309</td>\n",
       "      <td>21.014789</td>\n",
       "      <td>...</td>\n",
       "      <td>0</td>\n",
       "      <td>1</td>\n",
       "      <td>0</td>\n",
       "      <td>0</td>\n",
       "      <td>0</td>\n",
       "      <td>0</td>\n",
       "      <td>0</td>\n",
       "      <td>0</td>\n",
       "      <td>0</td>\n",
       "      <td>0</td>\n",
       "    </tr>\n",
       "    <tr>\n",
       "      <th>2</th>\n",
       "      <td>2.589596</td>\n",
       "      <td>3.505980</td>\n",
       "      <td>1.455195</td>\n",
       "      <td>9.448735</td>\n",
       "      <td>19.933859</td>\n",
       "      <td>2.314745</td>\n",
       "      <td>4.024772</td>\n",
       "      <td>2.947907</td>\n",
       "      <td>11.508667</td>\n",
       "      <td>19.850284</td>\n",
       "      <td>...</td>\n",
       "      <td>0</td>\n",
       "      <td>0</td>\n",
       "      <td>0</td>\n",
       "      <td>0</td>\n",
       "      <td>0</td>\n",
       "      <td>1</td>\n",
       "      <td>0</td>\n",
       "      <td>0</td>\n",
       "      <td>0</td>\n",
       "      <td>0</td>\n",
       "    </tr>\n",
       "    <tr>\n",
       "      <th>3</th>\n",
       "      <td>1.293948</td>\n",
       "      <td>1.397263</td>\n",
       "      <td>1.036087</td>\n",
       "      <td>9.507240</td>\n",
       "      <td>20.955943</td>\n",
       "      <td>2.371714</td>\n",
       "      <td>3.142566</td>\n",
       "      <td>1.082488</td>\n",
       "      <td>9.964036</td>\n",
       "      <td>20.317391</td>\n",
       "      <td>...</td>\n",
       "      <td>1</td>\n",
       "      <td>0</td>\n",
       "      <td>0</td>\n",
       "      <td>0</td>\n",
       "      <td>0</td>\n",
       "      <td>0</td>\n",
       "      <td>0</td>\n",
       "      <td>0</td>\n",
       "      <td>0</td>\n",
       "      <td>0</td>\n",
       "    </tr>\n",
       "    <tr>\n",
       "      <th>4</th>\n",
       "      <td>2.830502</td>\n",
       "      <td>2.898385</td>\n",
       "      <td>4.749289</td>\n",
       "      <td>13.274703</td>\n",
       "      <td>20.126977</td>\n",
       "      <td>3.760951</td>\n",
       "      <td>8.579335</td>\n",
       "      <td>2.030521</td>\n",
       "      <td>11.911581</td>\n",
       "      <td>21.229410</td>\n",
       "      <td>...</td>\n",
       "      <td>0</td>\n",
       "      <td>1</td>\n",
       "      <td>0</td>\n",
       "      <td>0</td>\n",
       "      <td>0</td>\n",
       "      <td>0</td>\n",
       "      <td>0</td>\n",
       "      <td>0</td>\n",
       "      <td>0</td>\n",
       "      <td>0</td>\n",
       "    </tr>\n",
       "  </tbody>\n",
       "</table>\n",
       "<p>5 rows × 1102 columns</p>\n",
       "</div>"
      ],
      "text/plain": [
       "   distance_in_km  Parallel_Distance  drop_PEN_DISTANCE  drop_LAG_DISTANCE  \\\n",
       "0        2.646645           3.719166           0.919144          11.401331   \n",
       "1        1.861236           2.476971           2.220561           8.384646   \n",
       "2        2.589596           3.505980           1.455195           9.448735   \n",
       "3        1.293948           1.397263           1.036087           9.507240   \n",
       "4        2.830502           2.898385           4.749289          13.274703   \n",
       "\n",
       "   drop_JFK_DISTANCE  drop_CSMK_DISTANCE  drop_MMOA_DISTANCE  \\\n",
       "0          22.107418            0.812001            4.815708   \n",
       "1          20.495702            3.550141            2.131273   \n",
       "2          19.933859            2.314745            4.024772   \n",
       "3          20.955943            2.371714            3.142566   \n",
       "4          20.126977            3.760951            8.579335   \n",
       "\n",
       "   pick_PEN_DISTANCE  pick_LAG_DISTANCE  pick_JFK_DISTANCE  ...    dow_1  \\\n",
       "0           2.119784           9.460135          21.958553  ...        1   \n",
       "1           3.901086           7.472309          21.014789  ...        0   \n",
       "2           2.947907          11.508667          19.850284  ...        0   \n",
       "3           1.082488           9.964036          20.317391  ...        1   \n",
       "4           2.030521          11.911581          21.229410  ...        0   \n",
       "\n",
       "   dow_2  dow_3  dow_4  dow_5  dow_6  dow_7  p_10  p_41  p_233  \n",
       "0      0      0      0      0      0      0     0     0      0  \n",
       "1      1      0      0      0      0      0     0     0      0  \n",
       "2      0      0      0      0      1      0     0     0      0  \n",
       "3      0      0      0      0      0      0     0     0      0  \n",
       "4      1      0      0      0      0      0     0     0      0  \n",
       "\n",
       "[5 rows x 1102 columns]"
      ]
     },
     "execution_count": 12,
     "metadata": {},
     "output_type": "execute_result"
    }
   ],
   "source": [
    "# let testing data and training data has the same columns \n",
    "training_final = col_consistant(training_dummy,500).drop(['index'],axis=1)\n",
    "testing_final = col_consistant(testing_dummy,500).drop(['index'],axis=1)\n",
    "testing_final = testing_final[training_final.columns.values.tolist()]\n",
    "testing_final.head()\n"
   ]
  },
  {
   "cell_type": "code",
   "execution_count": 14,
   "metadata": {},
   "outputs": [
    {
     "data": {
      "text/html": [
       "<div>\n",
       "<style scoped>\n",
       "    .dataframe tbody tr th:only-of-type {\n",
       "        vertical-align: middle;\n",
       "    }\n",
       "\n",
       "    .dataframe tbody tr th {\n",
       "        vertical-align: top;\n",
       "    }\n",
       "\n",
       "    .dataframe thead th {\n",
       "        text-align: right;\n",
       "    }\n",
       "</style>\n",
       "<table border=\"1\" class=\"dataframe\">\n",
       "  <thead>\n",
       "    <tr style=\"text-align: right;\">\n",
       "      <th></th>\n",
       "      <th>distance_in_km</th>\n",
       "      <th>Parallel_Distance</th>\n",
       "      <th>drop_PEN_DISTANCE</th>\n",
       "      <th>drop_LAG_DISTANCE</th>\n",
       "      <th>drop_JFK_DISTANCE</th>\n",
       "      <th>drop_CSMK_DISTANCE</th>\n",
       "      <th>drop_MMOA_DISTANCE</th>\n",
       "      <th>pick_PEN_DISTANCE</th>\n",
       "      <th>pick_LAG_DISTANCE</th>\n",
       "      <th>pick_JFK_DISTANCE</th>\n",
       "      <th>...</th>\n",
       "      <th>dow_1</th>\n",
       "      <th>dow_2</th>\n",
       "      <th>dow_3</th>\n",
       "      <th>dow_4</th>\n",
       "      <th>dow_5</th>\n",
       "      <th>dow_6</th>\n",
       "      <th>dow_7</th>\n",
       "      <th>p_10</th>\n",
       "      <th>p_41</th>\n",
       "      <th>p_233</th>\n",
       "    </tr>\n",
       "  </thead>\n",
       "  <tbody>\n",
       "    <tr>\n",
       "      <th>0</th>\n",
       "      <td>0.835619</td>\n",
       "      <td>1.093035</td>\n",
       "      <td>3.681307</td>\n",
       "      <td>8.729913</td>\n",
       "      <td>22.290366</td>\n",
       "      <td>4.933625</td>\n",
       "      <td>1.235488</td>\n",
       "      <td>3.129407</td>\n",
       "      <td>9.475959</td>\n",
       "      <td>22.651269</td>\n",
       "      <td>...</td>\n",
       "      <td>0</td>\n",
       "      <td>0</td>\n",
       "      <td>0</td>\n",
       "      <td>0</td>\n",
       "      <td>0</td>\n",
       "      <td>1</td>\n",
       "      <td>0</td>\n",
       "      <td>0</td>\n",
       "      <td>0</td>\n",
       "      <td>0</td>\n",
       "    </tr>\n",
       "    <tr>\n",
       "      <th>1</th>\n",
       "      <td>2.331261</td>\n",
       "      <td>2.432333</td>\n",
       "      <td>2.576834</td>\n",
       "      <td>12.283998</td>\n",
       "      <td>21.162931</td>\n",
       "      <td>1.448458</td>\n",
       "      <td>6.628851</td>\n",
       "      <td>0.987388</td>\n",
       "      <td>11.453930</td>\n",
       "      <td>22.208728</td>\n",
       "      <td>...</td>\n",
       "      <td>1</td>\n",
       "      <td>0</td>\n",
       "      <td>0</td>\n",
       "      <td>0</td>\n",
       "      <td>0</td>\n",
       "      <td>0</td>\n",
       "      <td>0</td>\n",
       "      <td>0</td>\n",
       "      <td>0</td>\n",
       "      <td>0</td>\n",
       "    </tr>\n",
       "    <tr>\n",
       "      <th>2</th>\n",
       "      <td>3.269653</td>\n",
       "      <td>4.191860</td>\n",
       "      <td>4.059302</td>\n",
       "      <td>13.126579</td>\n",
       "      <td>20.704680</td>\n",
       "      <td>2.976832</td>\n",
       "      <td>8.014222</td>\n",
       "      <td>0.796910</td>\n",
       "      <td>10.859930</td>\n",
       "      <td>21.095372</td>\n",
       "      <td>...</td>\n",
       "      <td>0</td>\n",
       "      <td>0</td>\n",
       "      <td>0</td>\n",
       "      <td>0</td>\n",
       "      <td>0</td>\n",
       "      <td>0</td>\n",
       "      <td>1</td>\n",
       "      <td>0</td>\n",
       "      <td>0</td>\n",
       "      <td>0</td>\n",
       "    </tr>\n",
       "    <tr>\n",
       "      <th>3</th>\n",
       "      <td>1.336802</td>\n",
       "      <td>1.696601</td>\n",
       "      <td>0.131764</td>\n",
       "      <td>10.592475</td>\n",
       "      <td>21.384072</td>\n",
       "      <td>1.217170</td>\n",
       "      <td>4.243354</td>\n",
       "      <td>1.463875</td>\n",
       "      <td>11.383583</td>\n",
       "      <td>21.096991</td>\n",
       "      <td>...</td>\n",
       "      <td>0</td>\n",
       "      <td>0</td>\n",
       "      <td>0</td>\n",
       "      <td>0</td>\n",
       "      <td>0</td>\n",
       "      <td>0</td>\n",
       "      <td>1</td>\n",
       "      <td>0</td>\n",
       "      <td>0</td>\n",
       "      <td>0</td>\n",
       "    </tr>\n",
       "    <tr>\n",
       "      <th>4</th>\n",
       "      <td>14.672341</td>\n",
       "      <td>15.174844</td>\n",
       "      <td>8.005290</td>\n",
       "      <td>12.677623</td>\n",
       "      <td>15.850484</td>\n",
       "      <td>7.590254</td>\n",
       "      <td>10.692123</td>\n",
       "      <td>7.720675</td>\n",
       "      <td>8.417529</td>\n",
       "      <td>23.943329</td>\n",
       "      <td>...</td>\n",
       "      <td>1</td>\n",
       "      <td>0</td>\n",
       "      <td>0</td>\n",
       "      <td>0</td>\n",
       "      <td>0</td>\n",
       "      <td>0</td>\n",
       "      <td>0</td>\n",
       "      <td>0</td>\n",
       "      <td>0</td>\n",
       "      <td>0</td>\n",
       "    </tr>\n",
       "  </tbody>\n",
       "</table>\n",
       "<p>5 rows × 1102 columns</p>\n",
       "</div>"
      ],
      "text/plain": [
       "   distance_in_km  Parallel_Distance  drop_PEN_DISTANCE  drop_LAG_DISTANCE  \\\n",
       "0        0.835619           1.093035           3.681307           8.729913   \n",
       "1        2.331261           2.432333           2.576834          12.283998   \n",
       "2        3.269653           4.191860           4.059302          13.126579   \n",
       "3        1.336802           1.696601           0.131764          10.592475   \n",
       "4       14.672341          15.174844           8.005290          12.677623   \n",
       "\n",
       "   drop_JFK_DISTANCE  drop_CSMK_DISTANCE  drop_MMOA_DISTANCE  \\\n",
       "0          22.290366            4.933625            1.235488   \n",
       "1          21.162931            1.448458            6.628851   \n",
       "2          20.704680            2.976832            8.014222   \n",
       "3          21.384072            1.217170            4.243354   \n",
       "4          15.850484            7.590254           10.692123   \n",
       "\n",
       "   pick_PEN_DISTANCE  pick_LAG_DISTANCE  pick_JFK_DISTANCE  ...    dow_1  \\\n",
       "0           3.129407           9.475959          22.651269  ...        0   \n",
       "1           0.987388          11.453930          22.208728  ...        1   \n",
       "2           0.796910          10.859930          21.095372  ...        0   \n",
       "3           1.463875          11.383583          21.096991  ...        0   \n",
       "4           7.720675           8.417529          23.943329  ...        1   \n",
       "\n",
       "   dow_2  dow_3  dow_4  dow_5  dow_6  dow_7  p_10  p_41  p_233  \n",
       "0      0      0      0      0      1      0     0     0      0  \n",
       "1      0      0      0      0      0      0     0     0      0  \n",
       "2      0      0      0      0      0      1     0     0      0  \n",
       "3      0      0      0      0      0      1     0     0      0  \n",
       "4      0      0      0      0      0      0     0     0      0  \n",
       "\n",
       "[5 rows x 1102 columns]"
      ]
     },
     "execution_count": 14,
     "metadata": {},
     "output_type": "execute_result"
    }
   ],
   "source": [
    "training_final.head()"
   ]
  },
  {
   "cell_type": "markdown",
   "metadata": {},
   "source": [
    "# Step5 Build model"
   ]
  },
  {
   "cell_type": "markdown",
   "metadata": {},
   "source": [
    "## 5.1 Linear model - LASSO"
   ]
  },
  {
   "cell_type": "markdown",
   "metadata": {},
   "source": [
    "### 5.1.1 Feature Selection\n",
    "\n",
    "delete some features that seems like do not have linear association with trip duration"
   ]
  },
  {
   "cell_type": "code",
   "execution_count": 16,
   "metadata": {},
   "outputs": [
    {
     "data": {
      "text/plain": [
       "array(['travel_time', 'passenger_count', 'distance_in_km',\n",
       "       'Parallel_Distance', 'drop_JFK_DISTANCE', 'pick_JFK_DISTANCE',\n",
       "       'temp', 'visib', 'wdsp', 'gust', 'max', 'min', 'prcp', 'sndp',\n",
       "       'common_holiday', 'key_holiday', 'logrtn'], dtype=object)"
      ]
     },
     "execution_count": 16,
     "metadata": {},
     "output_type": "execute_result"
    }
   ],
   "source": [
    "taxi_data_linear = training.drop(['speed', 'pickup_datetime', \n",
    "                                'trip_distance', 'drop_CSMK_DISTANCE', 'drop_MMOA_DISTANCE',                           \n",
    "       'pick_CSMK_DISTANCE', 'pick_LAG_DISTANCE', 'drop_LAG_DISTANCE',\n",
    "       'pick_MMOA_DISTANCE',  'pickup_latitude', 'pickup_longitude', 'dropoff_latitude', \n",
    "       'dropoff_longitude', 'rain_drizzle', 'fog', 'snow_ice_pellets', 'hail', 'thunder',\n",
    "        'pick_PEN_DISTANCE', 'drop_PEN_DISTANCE','pickup_cluster','dropoff_cluster','index','pickup_day',\n",
    "       'pickup_month', 'pickup_hour', 'pickup_weekday','log_travel_time'] ,axis=1)\n",
    "test_linear = testing_features.drop(['speed', 'pickup_datetime', \n",
    "                                'trip_distance', 'drop_CSMK_DISTANCE', 'drop_MMOA_DISTANCE',                           \n",
    "       'pick_CSMK_DISTANCE', 'pick_LAG_DISTANCE', 'drop_LAG_DISTANCE',\n",
    "       'pick_MMOA_DISTANCE',  'pickup_latitude', 'pickup_longitude', 'dropoff_latitude', \n",
    "       'dropoff_longitude', 'rain_drizzle', 'fog', 'snow_ice_pellets', 'hail', 'thunder',\n",
    "        'pick_PEN_DISTANCE', 'drop_PEN_DISTANCE','pickup_cluster','dropoff_cluster','index','pickup_day',\n",
    "       'pickup_month', 'pickup_hour', 'pickup_weekday','log_travel_time','travel_time'] ,axis=1)\n",
    "test_linear_y = testing_features['travel_time']\n",
    "taxi_data_linear.columns.values\n",
    "\n",
    "\n",
    "#给蔡婷  \n",
    "#前面你不需要的code我都注释了，你跑你的就行。\n",
    "#你用taxi_data_linear开始你的分析，最后模型预测的时候用test_linear，然后得到结果跟test_linear_y比，输入csv"
   ]
  },
  {
   "cell_type": "markdown",
   "metadata": {},
   "source": [
    "### 5.1.2 Split the whole data into training and testing, and scale\n",
    "\n",
    "since there are still many features left, we want to use Lasso model to fit the data and do further feature selection\n",
    "\n",
    "first, split the whole data into training part and test part and scale them since we will use Lasso model later"
   ]
  },
  {
   "cell_type": "code",
   "execution_count": 17,
   "metadata": {},
   "outputs": [
    {
     "name": "stderr",
     "output_type": "stream",
     "text": [
      "/anaconda3/lib/python3.6/site-packages/sklearn/cross_validation.py:41: DeprecationWarning: This module was deprecated in version 0.18 in favor of the model_selection module into which all the refactored classes and functions are moved. Also note that the interface of the new CV iterators are different from that of this module. This module will be removed in 0.20.\n",
      "  \"This module will be removed in 0.20.\", DeprecationWarning)\n"
     ]
    }
   ],
   "source": [
    "from sklearn.cross_validation import train_test_split\n",
    "from sklearn import preprocessing\n",
    "import numpy as np\n",
    "import matplotlib.pyplot as plt\n",
    "import pylab\n",
    "\n",
    "\n",
    "Y = taxi_data_linear.travel_time\n",
    "X = taxi_data_linear.drop(columns = 'travel_time', axis = 1)\n",
    "#X = X.assign(intercept = np.repeat(1, len(X)))\n",
    "\n",
    "X_train, X_test, Y_train, Y_test = train_test_split(X, Y, test_size = 0.2, random_state =535)\n",
    "\n",
    "X_scaled_train = (X_train-np.mean(X_train))/np.std(X_train)\n",
    "y_scaled_train = Y_train - np.mean(Y_train)\n",
    "X_scaled_test = (X_test-np.mean(X_train))/np.std(X_train)\n",
    "y_scaled_test = Y_test - np.mean(Y_test)"
   ]
  },
  {
   "cell_type": "code",
   "execution_count": 21,
   "metadata": {},
   "outputs": [],
   "source": [
    "X_scaled_train = pd.DataFrame(X_scaled_train)\n",
    "y_scaled_train = pd.DataFrame(y_scaled_train)\n",
    "X_scaled_train.columns = X_train.columns\n",
    "X_scaled_train.head()\n",
    "#taxi_data_train = X_scaled_train.join(y_scaled_train)\n",
    "taxi_data_train = pd.merge(X_scaled_train, y_scaled_train, left_index=True, right_index=True)\n",
    "y_scaled = taxi_data_train.travel_time\n",
    "X_scaled = taxi_data_train.drop(columns = 'travel_time', axis = 1)"
   ]
  },
  {
   "cell_type": "markdown",
   "metadata": {},
   "source": [
    "### 5.1.3 Tune the parameter"
   ]
  },
  {
   "cell_type": "markdown",
   "metadata": {},
   "source": [
    "tune the penalty parameter's value for Lasso model to select the most properly one"
   ]
  },
  {
   "cell_type": "code",
   "execution_count": 24,
   "metadata": {
    "scrolled": true
   },
   "outputs": [
    {
     "name": "stderr",
     "output_type": "stream",
     "text": [
      "/anaconda3/lib/python3.6/site-packages/sklearn/linear_model/coordinate_descent.py:1094: DataConversionWarning: A column-vector y was passed when a 1d array was expected. Please change the shape of y to (n_samples, ), for example using ravel().\n",
      "  y = column_or_1d(y, warn=True)\n"
     ]
    },
    {
     "name": "stdout",
     "output_type": "stream",
     "text": [
      "Alpha= 0.0008588989822385325\n",
      "mse =  174176.46758068373\n",
      "best model coefficients:\n"
     ]
    },
    {
     "data": {
      "text/plain": [
       "passenger_count        4.543800\n",
       "distance_in_km       886.904354\n",
       "Parallel_Distance   -373.409167\n",
       "drop_JFK_DISTANCE    -14.282495\n",
       "pick_JFK_DISTANCE     27.325031\n",
       "temp                  16.991780\n",
       "visib                 -9.943898\n",
       "wdsp                  15.458964\n",
       "gust                   6.080579\n",
       "max                   -2.690771\n",
       "min                    9.352741\n",
       "prcp                  -7.345797\n",
       "sndp                 -10.808866\n",
       "common_holiday        -9.450079\n",
       "key_holiday          -15.287903\n",
       "logrtn                 4.411021\n",
       "dtype: float64"
      ]
     },
     "execution_count": 24,
     "metadata": {},
     "output_type": "execute_result"
    }
   ],
   "source": [
    "import numpy as np\n",
    "import matplotlib.pyplot as plt\n",
    "from sklearn.linear_model import Lasso\n",
    "from sklearn.linear_model import LassoCV\n",
    "from sklearn.model_selection import KFold\n",
    "from sklearn.model_selection import GridSearchCV\n",
    "\n",
    "alphas = [0.1, 1, 5]\n",
    "lasso = Lasso(max_iter=10000, normalize=True)\n",
    "coefs = []\n",
    "\n",
    "for a in alphas:\n",
    "    lasso.set_params(alpha=a)\n",
    "    lasso.fit(X_scaled, y_scaled)\n",
    "    coefs.append(lasso.coef_)\n",
    "\n",
    "#cv_params = {'alpha': [0.1, 1]} # try many times to get the best \"n_estimators\"\n",
    "#model = Lasso(fit_intercept=False)\n",
    "#optimized_Lasso = GridSearchCV(estimator=model, param_grid=cv_params\n",
    "#                            , scoring='r2', cv=3, verbose=3, n_jobs=-1)\n",
    "lassocv = LassoCV(alphas=None, cv=10, max_iter=100000, normalize=True)\n",
    "lassocv.fit(X_scaled_train, y_scaled_train)\n",
    "lasso.set_params(alpha=lassocv.alpha_)\n",
    "print(\"Alpha=\", lassocv.alpha_)\n",
    "lasso.fit(X_scaled_train, y_scaled_train)\n",
    "print(\"mse = \",mean_squared_error(y_scaled_test, lasso.predict(X_scaled_test)))\n",
    "print(\"best model coefficients:\")\n",
    "pd.Series(lasso.coef_, index=X.columns)"
   ]
  },
  {
   "cell_type": "markdown",
   "metadata": {},
   "source": [
    "### 5.1.4 Fit Model and Predict"
   ]
  },
  {
   "cell_type": "markdown",
   "metadata": {},
   "source": [
    "#### 5.1.4.1 Fit model"
   ]
  },
  {
   "cell_type": "code",
   "execution_count": 66,
   "metadata": {
    "scrolled": true
   },
   "outputs": [
    {
     "name": "stderr",
     "output_type": "stream",
     "text": [
      "/anaconda3/lib/python3.6/site-packages/sklearn/linear_model/coordinate_descent.py:491: ConvergenceWarning: Objective did not converge. You might want to increase the number of iterations. Fitting data with very small alpha may cause precision problems.\n",
      "  ConvergenceWarning)\n"
     ]
    },
    {
     "data": {
      "text/plain": [
       "Lasso(alpha=0.0008588989822385325, copy_X=True, fit_intercept=False,\n",
       "   max_iter=1000, normalize=False, positive=False, precompute=False,\n",
       "   random_state=None, selection='cyclic', tol=0.0001, warm_start=False)"
      ]
     },
     "execution_count": 66,
     "metadata": {},
     "output_type": "execute_result"
    }
   ],
   "source": [
    "L_model = Lasso(alpha = 0.0008588989822385325, fit_intercept=False)\n",
    "L_model.fit(X_scaled_train, y_scaled_train)"
   ]
  },
  {
   "cell_type": "markdown",
   "metadata": {},
   "source": [
    "#### 5.1.4.2 Predict\n",
    "unscale the data so that the prediction is reasonable and put the test y and prediction y together"
   ]
  },
  {
   "cell_type": "code",
   "execution_count": 67,
   "metadata": {},
   "outputs": [],
   "source": [
    "test_linear_scaled = (test_linear-np.mean(X_train))/np.std(X_train)"
   ]
  },
  {
   "cell_type": "code",
   "execution_count": 68,
   "metadata": {},
   "outputs": [
    {
     "data": {
      "text/plain": [
       "0.5321438686510488"
      ]
     },
     "execution_count": 68,
     "metadata": {},
     "output_type": "execute_result"
    }
   ],
   "source": [
    "y_train_pred = L_model.predict(test_linear_scaled) + np.mean(Y_train)\n",
    "y_train_pred = pd.DataFrame(y_train_pred)\n",
    "test_linear_y = pd.DataFrame(test_linear_y)\n",
    "y_train_pred.columns = ['travel_time_prediction']\n",
    "\n",
    "y_lasso = pd.merge(test_linear_y, y_train_pred, left_index=True, right_index=True)\n",
    "np.sqrt(mean_squared_log_error(test_linear_y.values, y_train_pred.values))"
   ]
  },
  {
   "cell_type": "code",
   "execution_count": 84,
   "metadata": {},
   "outputs": [],
   "source": [
    "y_lasso.to_csv('y_lasso.csv', index = False)"
   ]
  },
  {
   "cell_type": "markdown",
   "metadata": {},
   "source": [
    "### 5.1.5 Feature Importance"
   ]
  },
  {
   "cell_type": "code",
   "execution_count": 83,
   "metadata": {},
   "outputs": [
    {
     "data": {
      "text/plain": [
       "([<matplotlib.axis.YTick at 0x1a1bdf5cf8>,\n",
       "  <matplotlib.axis.YTick at 0x1a1beb4b38>,\n",
       "  <matplotlib.axis.YTick at 0x1a1beaba20>,\n",
       "  <matplotlib.axis.YTick at 0x1a1bdc6668>,\n",
       "  <matplotlib.axis.YTick at 0x1a1bdc6cc0>,\n",
       "  <matplotlib.axis.YTick at 0x1a1bdcd358>,\n",
       "  <matplotlib.axis.YTick at 0x1a1bdcd9b0>,\n",
       "  <matplotlib.axis.YTick at 0x1a1bdd3080>,\n",
       "  <matplotlib.axis.YTick at 0x1a1bdd3710>,\n",
       "  <matplotlib.axis.YTick at 0x1a1bdd3da0>,\n",
       "  <matplotlib.axis.YTick at 0x1a1bdd9470>,\n",
       "  <matplotlib.axis.YTick at 0x1a1bdd9b00>,\n",
       "  <matplotlib.axis.YTick at 0x1a1bddf1d0>,\n",
       "  <matplotlib.axis.YTick at 0x1a1bddf860>,\n",
       "  <matplotlib.axis.YTick at 0x1a1bddfef0>,\n",
       "  <matplotlib.axis.YTick at 0x1a1bde55c0>],\n",
       " <a list of 16 Text yticklabel objects>)"
      ]
     },
     "execution_count": 83,
     "metadata": {},
     "output_type": "execute_result"
    },
    {
     "data": {
      "image/png": "[encoded data removed]",
      "text/plain": [
       "<matplotlib.figure.Figure at 0x1a1be4e320>"
      ]
     },
     "metadata": {},
     "output_type": "display_data"
    }
   ],
   "source": [
    "import matplotlib.pyplot as plt\n",
    "y = abs(L_model.coef_)\n",
    "coef_ = pd.DataFrame(y)\n",
    "coef_.columns = ['value']\n",
    "coef_['coef'] =  X_test.columns\n",
    "coef_ = coef_.sort_values(ascending=True, by=['value'])\n",
    "\n",
    "x0 = np.linspace(1,16,16)\n",
    "\n",
    "plt.barh(x0, coef_.value)\n",
    "plt.yticks(x0, coef_.coef)"
   ]
  },
  {
   "cell_type": "markdown",
   "metadata": {},
   "source": [
    "## 5.2 Decision Tree"
   ]
  },
  {
   "cell_type": "markdown",
   "metadata": {},
   "source": [
    "### 5.2.1 Test train split and using 3 fold cross validation"
   ]
  },
  {
   "cell_type": "code",
   "execution_count": 11,
   "metadata": {
    "scrolled": true
   },
   "outputs": [],
   "source": [
    "# Feature selection\n",
    "# training dataset\n",
    "training_dummy1 = dummy_one_hot1(training_features)\n",
    "# testing dataset\n",
    "testing_dummy1 = dummy_one_hot1(testing_features)\n",
    "testing_dummy1.head()\n",
    "# let testing data and training data has the same columns \n",
    "training_final1 = col_consistant1(training_dummy1).drop(['index'],axis=1)\n",
    "testing_final1 = col_consistant1(testing_dummy1).drop(['index'],axis=1)\n",
    "testing_final1 = testing_final1[training_final1.columns.values.tolist()]"
   ]
  },
  {
   "cell_type": "code",
   "execution_count": 12,
   "metadata": {},
   "outputs": [
    {
     "data": {
      "text/plain": [
       "KFold(n_splits=3, random_state=1111, shuffle=True)"
      ]
     },
     "execution_count": 12,
     "metadata": {},
     "output_type": "execute_result"
    }
   ],
   "source": [
    "y_train=training_final1['travel_time']\n",
    "X_train=training_final1.drop('travel_time',1)\n",
    "## training_final1 是你用来训练模型的～～～～～\n",
    "X_test = testing_final1.drop('travel_time',1)\n",
    "y_test = testing_final1['travel_time']\n",
    "kf = KFold(n_splits=3, shuffle=True, random_state=1111)\n",
    "kf"
   ]
  },
  {
   "cell_type": "markdown",
   "metadata": {},
   "source": [
    "### 5.2.2 Regularization, Grid Search and tuning parameter"
   ]
  },
  {
   "cell_type": "code",
   "execution_count": 13,
   "metadata": {},
   "outputs": [],
   "source": [
    "def rmsle(y_true, y_pred):\n",
    "    assert len(y_true) == len(y_pred)\n",
    "    return np.sqrt(np.mean(np.square(np.subtract(np.log1p(y_true), np.log1p(y_pred)))))"
   ]
  },
  {
   "cell_type": "markdown",
   "metadata": {},
   "source": [
    "1.I first try to tuning each parameter individually and get best sample split is 0.1, best depth is 15. best sample_leaf is 5\n",
    "best max_features is 90.\n",
    "\n",
    "2.After many trials of different parameters, I choose only to tune max_depth and use default parameters since this will give me a lower msle score.  This parameter indicates how deep the tree can be. The deeper the tree, the more splits it has and it captures more information about the data.\n",
    "\n",
    "3.I also tried lots of different parameters and a detailed grid for all parameters are here:\n"
   ]
  },
  {
   "cell_type": "code",
   "execution_count": null,
   "metadata": {},
   "outputs": [],
   "source": [
    "model = DecisionTreeRegressor()\n",
    "param_grid = {\n",
    "    'max_depth': [11, 13, 15, 17, 21, 23] ,\n",
    "    'min_samples_leaf': [3, 4, 5],\n",
    "    'min_samples_split': [0.1,0.2],\n",
    "    'max_features':  [10,20,30,40,50,60,70,80,90]\n",
    "}\n"
   ]
  },
  {
   "cell_type": "markdown",
   "metadata": {},
   "source": [
    "**The result was:**\n",
    "\n",
    "**RMSLE = 0.44 for max depth = 11, min_samples_leaf = 3, min_sample_split = 0.1**\n",
    "\n",
    "\n",
    "Use 3 fold cross validation with grid search method to tune parameters"
   ]
  },
  {
   "cell_type": "code",
   "execution_count": 14,
   "metadata": {},
   "outputs": [
    {
     "name": "stdout",
     "output_type": "stream",
     "text": [
      "Fitting 3 folds for each of 6 candidates, totalling 18 fits\n",
      "[CV] max_depth=11 ....................................................\n",
      "[CV] .......... max_depth=11, score=-0.4446616010889671, total=  10.2s\n",
      "[CV] max_depth=11 ....................................................\n"
     ]
    },
    {
     "name": "stderr",
     "output_type": "stream",
     "text": [
      "[Parallel(n_jobs=1)]: Done   1 out of   1 | elapsed:   10.6s remaining:    0.0s\n"
     ]
    },
    {
     "name": "stdout",
     "output_type": "stream",
     "text": [
      "[CV] .......... max_depth=11, score=-0.4470023943712959, total=   9.5s\n",
      "[CV] max_depth=11 ....................................................\n"
     ]
    },
    {
     "name": "stderr",
     "output_type": "stream",
     "text": [
      "[Parallel(n_jobs=1)]: Done   2 out of   2 | elapsed:   20.5s remaining:    0.0s\n"
     ]
    },
    {
     "name": "stdout",
     "output_type": "stream",
     "text": [
      "[CV] ......... max_depth=11, score=-0.45031179040679803, total=   9.4s\n",
      "[CV] max_depth=13 ....................................................\n",
      "[CV] ......... max_depth=13, score=-0.44143186875832935, total=  11.3s\n",
      "[CV] max_depth=13 ....................................................\n",
      "[CV] ......... max_depth=13, score=-0.44245580843743754, total=  11.8s\n",
      "[CV] max_depth=13 ....................................................\n",
      "[CV] .......... max_depth=13, score=-0.4467947486930407, total=  11.4s\n",
      "[CV] max_depth=15 ....................................................\n",
      "[CV] ......... max_depth=15, score=-0.44138310881268006, total=  12.2s\n",
      "[CV] max_depth=15 ....................................................\n",
      "[CV] .......... max_depth=15, score=-0.4411892762434818, total=  12.5s\n",
      "[CV] max_depth=15 ....................................................\n",
      "[CV] .......... max_depth=15, score=-0.4476208563177184, total=  12.5s\n",
      "[CV] max_depth=17 ....................................................\n",
      "[CV] ......... max_depth=17, score=-0.44502320247028254, total=  13.5s\n",
      "[CV] max_depth=17 ....................................................\n",
      "[CV] ......... max_depth=17, score=-0.44587887358854505, total=  13.6s\n",
      "[CV] max_depth=17 ....................................................\n",
      "[CV] .......... max_depth=17, score=-0.4526856539776627, total=  13.3s\n",
      "[CV] max_depth=21 ....................................................\n",
      "[CV] ......... max_depth=21, score=-0.46497904324044764, total=  15.7s\n",
      "[CV] max_depth=21 ....................................................\n",
      "[CV] ......... max_depth=21, score=-0.46516610573145883, total=  16.2s\n",
      "[CV] max_depth=21 ....................................................\n",
      "[CV] .......... max_depth=21, score=-0.4705264156487216, total=  16.0s\n",
      "[CV] max_depth=23 ....................................................\n",
      "[CV] .......... max_depth=23, score=-0.4761788511329716, total=  16.6s\n",
      "[CV] max_depth=23 ....................................................\n",
      "[CV] .......... max_depth=23, score=-0.4728962740325691, total=  17.0s\n",
      "[CV] max_depth=23 ....................................................\n",
      "[CV] ......... max_depth=23, score=-0.48064182414307577, total=  17.0s\n"
     ]
    },
    {
     "name": "stderr",
     "output_type": "stream",
     "text": [
      "[Parallel(n_jobs=1)]: Done  18 out of  18 | elapsed:  4.1min finished\n"
     ]
    },
    {
     "data": {
      "text/plain": [
       "GridSearchCV(cv=KFold(n_splits=3, random_state=1111, shuffle=True),\n",
       "       error_score='raise',\n",
       "       estimator=DecisionTreeRegressor(criterion='mse', max_depth=None, max_features=None,\n",
       "           max_leaf_nodes=None, min_impurity_decrease=0.0,\n",
       "           min_impurity_split=None, min_samples_leaf=1,\n",
       "           min_samples_split=2, min_weight_fraction_leaf=0.0,\n",
       "           presort=False, random_state=None, splitter='best'),\n",
       "       fit_params=None, iid=True, n_jobs=1,\n",
       "       param_grid={'max_depth': [11, 13, 15, 17, 21, 23]},\n",
       "       pre_dispatch='2*n_jobs', refit=True, return_train_score='warn',\n",
       "       scoring=make_scorer(rmsle, greater_is_better=False), verbose=3)"
      ]
     },
     "execution_count": 14,
     "metadata": {},
     "output_type": "execute_result"
    }
   ],
   "source": [
    "model = DecisionTreeRegressor()\n",
    "param_grid = {\n",
    "    'max_depth' : [11, 13, 15, 17, 21, 23]    \n",
    "}\n",
    "search_cv = GridSearchCV(model, param_grid, scoring=make_scorer(rmsle, greater_is_better=False),\n",
    "                   cv=kf, verbose=3)\n",
    "\n",
    "search_cv.fit(X_train, y_train)"
   ]
  },
  {
   "cell_type": "markdown",
   "metadata": {},
   "source": [
    "### 5.2.3 Performance, importance plot"
   ]
  },
  {
   "cell_type": "code",
   "execution_count": 18,
   "metadata": {},
   "outputs": [
    {
     "name": "stdout",
     "output_type": "stream",
     "text": [
      "0.43561827382082646\n"
     ]
    },
    {
     "data": {
      "text/html": [
       "<div>\n",
       "<style scoped>\n",
       "    .dataframe tbody tr th:only-of-type {\n",
       "        vertical-align: middle;\n",
       "    }\n",
       "\n",
       "    .dataframe tbody tr th {\n",
       "        vertical-align: top;\n",
       "    }\n",
       "\n",
       "    .dataframe thead th {\n",
       "        text-align: right;\n",
       "    }\n",
       "</style>\n",
       "<table border=\"1\" class=\"dataframe\">\n",
       "  <thead>\n",
       "    <tr style=\"text-align: right;\">\n",
       "      <th></th>\n",
       "      <th>mean_fit_time</th>\n",
       "      <th>mean_score_time</th>\n",
       "      <th>mean_test_score</th>\n",
       "      <th>mean_train_score</th>\n",
       "      <th>param_max_depth</th>\n",
       "      <th>params</th>\n",
       "      <th>rank_test_score</th>\n",
       "      <th>split0_test_score</th>\n",
       "      <th>split0_train_score</th>\n",
       "      <th>split1_test_score</th>\n",
       "      <th>split1_train_score</th>\n",
       "      <th>split2_test_score</th>\n",
       "      <th>split2_train_score</th>\n",
       "      <th>std_fit_time</th>\n",
       "      <th>std_score_time</th>\n",
       "      <th>std_test_score</th>\n",
       "      <th>std_train_score</th>\n",
       "    </tr>\n",
       "  </thead>\n",
       "  <tbody>\n",
       "    <tr>\n",
       "      <th>2</th>\n",
       "      <td>12.340664</td>\n",
       "      <td>0.171208</td>\n",
       "      <td>-0.443398</td>\n",
       "      <td>-0.392625</td>\n",
       "      <td>15</td>\n",
       "      <td>{'max_depth': 15}</td>\n",
       "      <td>1</td>\n",
       "      <td>-0.441383</td>\n",
       "      <td>-0.392677</td>\n",
       "      <td>-0.441189</td>\n",
       "      <td>-0.394512</td>\n",
       "      <td>-0.447621</td>\n",
       "      <td>-0.390686</td>\n",
       "      <td>0.144850</td>\n",
       "      <td>0.002861</td>\n",
       "      <td>0.002987</td>\n",
       "      <td>0.001562</td>\n",
       "    </tr>\n",
       "    <tr>\n",
       "      <th>1</th>\n",
       "      <td>11.443396</td>\n",
       "      <td>0.168549</td>\n",
       "      <td>-0.443561</td>\n",
       "      <td>-0.414891</td>\n",
       "      <td>13</td>\n",
       "      <td>{'max_depth': 13}</td>\n",
       "      <td>2</td>\n",
       "      <td>-0.441432</td>\n",
       "      <td>-0.415452</td>\n",
       "      <td>-0.442456</td>\n",
       "      <td>-0.416160</td>\n",
       "      <td>-0.446795</td>\n",
       "      <td>-0.413061</td>\n",
       "      <td>0.203501</td>\n",
       "      <td>0.007464</td>\n",
       "      <td>0.002325</td>\n",
       "      <td>0.001326</td>\n",
       "    </tr>\n",
       "    <tr>\n",
       "      <th>0</th>\n",
       "      <td>9.686428</td>\n",
       "      <td>0.151262</td>\n",
       "      <td>-0.447325</td>\n",
       "      <td>-0.433721</td>\n",
       "      <td>11</td>\n",
       "      <td>{'max_depth': 11}</td>\n",
       "      <td>3</td>\n",
       "      <td>-0.444662</td>\n",
       "      <td>-0.434732</td>\n",
       "      <td>-0.447002</td>\n",
       "      <td>-0.433790</td>\n",
       "      <td>-0.450312</td>\n",
       "      <td>-0.432642</td>\n",
       "      <td>0.361930</td>\n",
       "      <td>0.003848</td>\n",
       "      <td>0.002318</td>\n",
       "      <td>0.000855</td>\n",
       "    </tr>\n",
       "    <tr>\n",
       "      <th>3</th>\n",
       "      <td>13.382877</td>\n",
       "      <td>0.185837</td>\n",
       "      <td>-0.447863</td>\n",
       "      <td>-0.366018</td>\n",
       "      <td>17</td>\n",
       "      <td>{'max_depth': 17}</td>\n",
       "      <td>4</td>\n",
       "      <td>-0.445023</td>\n",
       "      <td>-0.365747</td>\n",
       "      <td>-0.445879</td>\n",
       "      <td>-0.369758</td>\n",
       "      <td>-0.452686</td>\n",
       "      <td>-0.362550</td>\n",
       "      <td>0.149324</td>\n",
       "      <td>0.016933</td>\n",
       "      <td>0.003428</td>\n",
       "      <td>0.002949</td>\n",
       "    </tr>\n",
       "    <tr>\n",
       "      <th>4</th>\n",
       "      <td>15.877538</td>\n",
       "      <td>0.212764</td>\n",
       "      <td>-0.466891</td>\n",
       "      <td>-0.302915</td>\n",
       "      <td>21</td>\n",
       "      <td>{'max_depth': 21}</td>\n",
       "      <td>5</td>\n",
       "      <td>-0.464979</td>\n",
       "      <td>-0.301014</td>\n",
       "      <td>-0.465166</td>\n",
       "      <td>-0.307446</td>\n",
       "      <td>-0.470526</td>\n",
       "      <td>-0.300285</td>\n",
       "      <td>0.214064</td>\n",
       "      <td>0.016171</td>\n",
       "      <td>0.002572</td>\n",
       "      <td>0.003217</td>\n",
       "    </tr>\n",
       "  </tbody>\n",
       "</table>\n",
       "</div>"
      ],
      "text/plain": [
       "   mean_fit_time  mean_score_time  mean_test_score  mean_train_score  \\\n",
       "2      12.340664         0.171208        -0.443398         -0.392625   \n",
       "1      11.443396         0.168549        -0.443561         -0.414891   \n",
       "0       9.686428         0.151262        -0.447325         -0.433721   \n",
       "3      13.382877         0.185837        -0.447863         -0.366018   \n",
       "4      15.877538         0.212764        -0.466891         -0.302915   \n",
       "\n",
       "  param_max_depth             params  rank_test_score  split0_test_score  \\\n",
       "2              15  {'max_depth': 15}                1          -0.441383   \n",
       "1              13  {'max_depth': 13}                2          -0.441432   \n",
       "0              11  {'max_depth': 11}                3          -0.444662   \n",
       "3              17  {'max_depth': 17}                4          -0.445023   \n",
       "4              21  {'max_depth': 21}                5          -0.464979   \n",
       "\n",
       "   split0_train_score  split1_test_score  split1_train_score  \\\n",
       "2           -0.392677          -0.441189           -0.394512   \n",
       "1           -0.415452          -0.442456           -0.416160   \n",
       "0           -0.434732          -0.447002           -0.433790   \n",
       "3           -0.365747          -0.445879           -0.369758   \n",
       "4           -0.301014          -0.465166           -0.307446   \n",
       "\n",
       "   split2_test_score  split2_train_score  std_fit_time  std_score_time  \\\n",
       "2          -0.447621           -0.390686      0.144850        0.002861   \n",
       "1          -0.446795           -0.413061      0.203501        0.007464   \n",
       "0          -0.450312           -0.432642      0.361930        0.003848   \n",
       "3          -0.452686           -0.362550      0.149324        0.016933   \n",
       "4          -0.470526           -0.300285      0.214064        0.016171   \n",
       "\n",
       "   std_test_score  std_train_score  \n",
       "2        0.002987         0.001562  \n",
       "1        0.002325         0.001326  \n",
       "0        0.002318         0.000855  \n",
       "3        0.003428         0.002949  \n",
       "4        0.002572         0.003217  "
      ]
     },
     "execution_count": 18,
     "metadata": {},
     "output_type": "execute_result"
    },
    {
     "data": {
      "image/png": "[encoded data removed]",
      "text/plain": [
       "<matplotlib.figure.Figure at 0x1ee0f8ff080>"
      ]
     },
     "metadata": {},
     "output_type": "display_data"
    }
   ],
   "source": [
    "rmsle = {}\n",
    "for i in (1,2,3,4,5):\n",
    "    def rmsle1(y, y0):\n",
    "        return np.sqrt(np.mean(np.square(np.log1p(y) - np.log1p(y0))))\n",
    "    \n",
    "    y_pred = search_cv.best_estimator_.predict(X_test)\n",
    "    rmsle[i] = rmsle1(y_pred,y_test)\n",
    "print(np.array(list(rmsle.values())).mean())\n",
    "\n",
    "df1 = pd.DataFrame(data=search_cv.cv_results_)\n",
    "df1\n",
    "fig,ax = plt.subplots()\n",
    "sns.pointplot(data=df1[['mean_test_score',\n",
    "                           'param_max_depth']],\n",
    "             y='mean_test_score',x='param_max_depth',ax=ax)\n",
    "ax.set(title=\"Effect of Depth on Model Performance\")\n",
    "results = pd.DataFrame(search_cv.cv_results_).sort_values(by='mean_test_score', ascending=False)\n",
    "results.head()"
   ]
  },
  {
   "cell_type": "code",
   "execution_count": 16,
   "metadata": {},
   "outputs": [],
   "source": [
    "iris = load_iris()\n",
    "clf = tree.DecisionTreeClassifier(max_depth=15)\n",
    "clf = clf.fit(X_train,y_train)\n",
    "fidt = pd.Series(clf.feature_importances_)"
   ]
  },
  {
   "cell_type": "code",
   "execution_count": 25,
   "metadata": {},
   "outputs": [
    {
     "data": {
      "image/png": "[encoded data removed]",
      "text/plain": [
       "<matplotlib.figure.Figure at 0x1ee0f942940>"
      ]
     },
     "metadata": {},
     "output_type": "display_data"
    },
    {
     "name": "stdout",
     "output_type": "stream",
     "text": [
      "0    0.094425\n",
      "1    0.061055\n",
      "9    0.055773\n",
      "4    0.054085\n",
      "6    0.047961\n",
      "8    0.045147\n",
      "3    0.044644\n",
      "5    0.043508\n",
      "dtype: float64\n"
     ]
    }
   ],
   "source": [
    "colname = ['distance_in_km','Parallel_Distance','pick_JFK_DISTANCE','drop_JFK_DISTANCE',\n",
    " 'drop_MMOA_DISTANCE','pick_LAG_DISTANCE','drop_LAG_DISTANCE','drop_CSMK_DISTANCE']\n",
    "fidt.nlargest(8).plot(kind='barh')\n",
    "plt.yticks(range(0,8),colname)\n",
    "\n",
    "plt.show()\n",
    "print(fidt.nlargest(8))"
   ]
  },
  {
   "cell_type": "markdown",
   "metadata": {},
   "source": [
    "### 5.2.4 Prediction\n"
   ]
  },
  {
   "cell_type": "code",
   "execution_count": 26,
   "metadata": {},
   "outputs": [],
   "source": [
    "new_series = pd.Series(y_pred)\n",
    "dtree=pd.concat([y_test.reset_index(drop=True), new_series.reset_index(drop=True)], axis=1)\n",
    "#test.to_csv(\"C:/Users/59381/Desktop/test.csv\", index = False)"
   ]
  },
  {
   "cell_type": "markdown",
   "metadata": {},
   "source": [
    "## 5.3 XGBoost"
   ]
  },
  {
   "cell_type": "markdown",
   "metadata": {},
   "source": [
    "**Introdutcion to XGBoost (eXtreme Gradient Boosting)**\n",
    "\n",
    "XGBoost is an advanced implementation of gradient boosting algorithm. The original author is Tianqi Chen. XGBoost has many parameters and  parameter tuning is complex."
   ]
  },
  {
   "cell_type": "markdown",
   "metadata": {},
   "source": [
    "### 5.3.1 Split data into train and test data again"
   ]
  },
  {
   "cell_type": "markdown",
   "metadata": {},
   "source": [
    "We split the data used to build model again to seperate traning data and validation data."
   ]
  },
  {
   "cell_type": "code",
   "execution_count": 15,
   "metadata": {},
   "outputs": [],
   "source": [
    "train, test  = train_test_split(training_final,test_size=0.8, random_state=535)"
   ]
  },
  {
   "cell_type": "code",
   "execution_count": 16,
   "metadata": {},
   "outputs": [],
   "source": [
    "# train and test dataset for the XGBoost model\n",
    "X_train = train.drop(['log_travel_time'], axis=1)  \n",
    "Y_train = train[\"log_travel_time\"]  \n",
    "X_test = test.drop(['log_travel_time'], axis=1)  \n",
    "Y_test = test[\"log_travel_time\"]\n",
    "\n",
    "Y_test = Y_test.reset_index().drop('index',axis = 1)  \n",
    "Y_train = Y_train.reset_index().drop('index',axis = 1)  \n",
    "# Testing dataset\n",
    "X_testing = testing_final.drop(['log_travel_time'], axis=1) \n",
    "Y_testing = testing_final[\"log_travel_time\"]  \n",
    "Y_testing = Y_testing.reset_index().drop('index',axis = 1)  "
   ]
  },
  {
   "cell_type": "markdown",
   "metadata": {},
   "source": [
    "### 5.3.2 Transfrom training data and testing data into the format that suit for XGBoost "
   ]
  },
  {
   "cell_type": "code",
   "execution_count": 17,
   "metadata": {},
   "outputs": [],
   "source": [
    "# Transfrom training data and testing data into the format that suit for XGBoost \n",
    "dtrain = xgb.DMatrix(X_train, label=Y_train)  \n",
    "dvalid = xgb.DMatrix(X_test, label=Y_test)  \n",
    "watchlist = [(dtrain, 'train'), (dvalid, 'valid')]  \n",
    "dtest = xgb.DMatrix(X_testing)"
   ]
  },
  {
   "cell_type": "markdown",
   "metadata": {},
   "source": [
    "### 5.3.3 Tune the model"
   ]
  },
  {
   "cell_type": "markdown",
   "metadata": {},
   "source": [
    "The overall parameters have been divided into 3 categories by authors:\n",
    "<br>&emsp;&emsp;*General Parameters:* Guide the overall functioning\n",
    "<br>&emsp;&emsp;&emsp; 1. booster: It has two options: \"gbtree\" or \"gblinear\". We will set it as \"gbtree\".\n",
    "<br>&emsp;&emsp;&emsp; 2. slient: It could be 0 or 1. If it is 1, there would be no running message. We will set it as 1.\n",
    "<br>&emsp;&emsp;*Booster Parameters:* Guide the individual booster (tree/regression) at each step\n",
    "<br>&emsp;&emsp;&emsp; 1. eta: Step size shrinkage used in update to prevents overfitting. We will tune this parameter later.\n",
    "<br>&emsp;&emsp;&emsp; 2. max_depth: Maximum depth of a tree. Increasing this value will make the model more complex and more likely to overfit. We will tune this parameter later.\n",
    "<br>&emsp;&emsp;&emsp; 3. min_child_weight: Maximum depth of a tree. Increasing this value will make the model more complex and more likely to overfit. We will tune this parameter later.\n",
    "<br>&emsp;&emsp;&emsp; 4. subsample: Subsample ratio of the training instances. This will prevent overfitting We will tune this parameter later.\n",
    "<br>&emsp;&emsp;*Learning Task Parameters:* Guide the optimization performed\n",
    "<br>&emsp;&emsp;&emsp; 1. objective: we ues \"reg:linear\"\n",
    "<br>&emsp;&emsp;&emsp; 2. eval_metric: we ues \"rmse\": root mean square error.\n",
    "\n",
    "We ues some parameters by its default value and will focus on turing 4 booster paramters: *n_estimators*, *eta*, *max_depth*, *min_child_weight*, *subsample* . First of all, beacuse our dataset is super large and the computation ability in laptop is limited. We will first ues a small dataset from training data and find the best parameter using **3 fold cross validation** in the small dataset."
   ]
  },
  {
   "cell_type": "markdown",
   "metadata": {},
   "source": [
    "#### 5.3.3.1 Tune *n_eatinators* using **GridSearchCV**"
   ]
  },
  {
   "cell_type": "markdown",
   "metadata": {},
   "source": [
    "As we could see, we first use **GridSearchCV** to perform 3 fold crossing validation to find the best *n_estimators*. The speed is quite slow using GridSearchCV function. It took over 25 minutes when *n_estimators* from 500 to 800. So we will use **xgb.cv** to tune other parameters on a smaller sample size and then using **GridSearchCV** to get more accurate results."
   ]
  },
  {
   "cell_type": "code",
   "execution_count": 59,
   "metadata": {},
   "outputs": [],
   "source": [
    "# split another smaller training dataset to turn the model\n",
    "training_t, testing_t  = train_test_split(train,test_size=0.6)\n",
    "X_train_t = training_t.drop(['log_travel_time'], axis=1)  \n",
    "Y_train_t = training_t[\"log_travel_time\"]  \n",
    "X_test_t = testing_t.drop(['log_travel_time'], axis=1)  \n",
    "Y_test_t = testing_t[\"log_travel_time\"]\n",
    "\n",
    "Y_test_t = Y_test_t.reset_index().drop('index',axis = 1)  \n",
    "Y_train_t = Y_train_t.reset_index().drop('index',axis = 1)  \n",
    "\n",
    "# Transfrom training data and testing data into the format that suit for XGBoost \n",
    "dtrain_t = xgb.DMatrix(X_train_t, label=Y_train_t)  \n",
    "dvalid_t = xgb.DMatrix(X_test_t, label=Y_test_t)  \n",
    "watchlist_t = [(dtrain_t, 'train'), (dvalid_t, 'valid')]  \n",
    "dtrain_t = xgb.DMatrix(X_train_t, Y_train_t)"
   ]
  },
  {
   "cell_type": "code",
   "execution_count": 71,
   "metadata": {
    "scrolled": true
   },
   "outputs": [
    {
     "name": "stdout",
     "output_type": "stream",
     "text": [
      "Fitting 3 folds for each of 3 candidates, totalling 9 fits\n",
      "[CV] n_estimators=80 .................................................\n",
      "[CV] n_estimators=80 .................................................\n",
      "[CV] n_estimators=80 .................................................\n",
      "[CV] n_estimators=100 ................................................\n",
      "[CV] ........ n_estimators=80, score=0.7193263279083408, total= 4.4min\n",
      "[CV] n_estimators=100 ................................................\n",
      "[CV] ........ n_estimators=80, score=0.7139048471375826, total= 4.4min\n",
      "[CV] n_estimators=100 ................................................\n",
      "[CV] ........ n_estimators=80, score=0.7125370296472929, total= 4.5min\n",
      "[CV] n_estimators=120 ................................................\n",
      "[CV] ....... n_estimators=100, score=0.7195233856588205, total= 5.5min\n",
      "[CV] n_estimators=120 ................................................\n",
      "[CV] ....... n_estimators=100, score=0.7156352741047635, total= 5.0min\n",
      "[CV] n_estimators=120 ................................................\n",
      "[CV] ....... n_estimators=100, score=0.7139310111587087, total= 5.1min\n"
     ]
    },
    {
     "name": "stderr",
     "output_type": "stream",
     "text": [
      "[Parallel(n_jobs=-1)]: Done   6 out of   9 | elapsed:  9.6min remaining:  4.8min\n"
     ]
    },
    {
     "name": "stdout",
     "output_type": "stream",
     "text": [
      "[CV] ....... n_estimators=120, score=0.7196311033037806, total= 5.8min\n",
      "[CV] ....... n_estimators=120, score=0.7195830995708823, total= 5.3min\n",
      "[CV] ....... n_estimators=120, score=0.7116803072913338, total= 3.7min\n"
     ]
    },
    {
     "name": "stderr",
     "output_type": "stream",
     "text": [
      "[Parallel(n_jobs=-1)]: Done   9 out of   9 | elapsed: 13.3min finished\n"
     ]
    },
    {
     "name": "stdout",
     "output_type": "stream",
     "text": [
      "Best Parameter：{'n_estimators': 120}\n",
      "R2:0.7169649151554455\n"
     ]
    },
    {
     "name": "stderr",
     "output_type": "stream",
     "text": [
      "/Users/xiaoyun/anaconda3/lib/python3.6/site-packages/sklearn/model_selection/_search.py:761: DeprecationWarning: The grid_scores_ attribute was deprecated in version 0.18 in favor of the more elaborate cv_results_ attribute. The grid_scores_ attribute will not be available from 0.20\n",
      "  DeprecationWarning)\n"
     ]
    }
   ],
   "source": [
    "from sklearn.model_selection import GridSearchCV\n",
    "cv_params = {'n_estimators': [80,100,120]} # try many times to get the best \"n_estimators\"\n",
    "other_params = {'learning_rate': 0.3, 'n_estimators': 105, 'seed': 0,'max_depth': 6, 'min_child_weight': 35,\n",
    "                    'subsample': 0.9, 'colsample_bytree': 0.9,  'reg_alpha': 0, 'reg_lambda': 1}\n",
    "model = xgb.XGBRegressor(**other_params)\n",
    "optimized_GBM = GridSearchCV(estimator=model, param_grid=cv_params\n",
    "                             , scoring='r2', cv=3, verbose=3, n_jobs=-1)\n",
    "optimized_GBM.fit(X_train_t, Y_train_t)\n",
    "evalute_result = optimized_GBM.grid_scores_\n",
    "print('Best Parameter：{0}'.format(optimized_GBM.best_params_))\n",
    "print('R2:{0}'.format(optimized_GBM.best_score_))"
   ]
  },
  {
   "cell_type": "markdown",
   "metadata": {},
   "source": [
    "#### 5.3.3.2 Automaticly tune other parameters to get a rough range using xgb.cv"
   ]
  },
  {
   "cell_type": "markdown",
   "metadata": {},
   "source": [
    "Using  **xgb.cv** to tune *max_depth*, *eta*, *subsample*, *min_child_weight* automaticly."
   ]
  },
  {
   "cell_type": "code",
   "execution_count": 24,
   "metadata": {},
   "outputs": [
    {
     "name": "stdout",
     "output_type": "stream",
     "text": [
      "best_round = 45, best_seednumber = 68\n",
      "best_param {'objective': 'reg:linear', 'max_depth': 7, 'eta': 0.2950003115062557, 'subsample': 0.8443674314266695, 'min_child_weight': 34, 'lambda': 1.0, 'booster': 'gbtree', 'silent': 1}\n"
     ]
    }
   ],
   "source": [
    "# automatic find the best parameter using fuctions from random \n",
    "# using cross validation to find the best parameter\n",
    "best_param = list()\n",
    "best_seednumber = 123\n",
    "best_rmse = np.Inf\n",
    "best_rmse_index = 0\n",
    "\n",
    "\n",
    "for iter in range(20):\n",
    "    param = {'objective' : \"reg:linear\",            \n",
    "                 'max_depth' : np.random.randint(6,8),         \n",
    "                 'eta' : np.random.uniform(.1, .3),            \n",
    "                 'subsample' : np.random.uniform(.7, .9),             \n",
    "                 'min_child_weight' : np.random.randint(1,41),\n",
    "                 'lambda': 1., 'booster' : 'gbtree', 'silent': 1}\n",
    "    \n",
    "    cv_nround = 120                                   \n",
    "    cv_nfold = 3                                     # 3 fold cross validation\n",
    "    seed_number = np.random.randint(0,100)\n",
    "    random.seed(seed_number)\n",
    "   \n",
    "    mdcv = xgb.cv(params = param, dtrain=dtrain_t, metrics=[\"rmse\"],\n",
    "                    nfold=cv_nfold, num_boost_round=cv_nround, verbose_eval = None,\n",
    "                    early_stopping_rounds=10, maximize=False)\n",
    "\n",
    "    min_rmse = min(mdcv['test-rmse-mean'])\n",
    "    min_rmse_index = mdcv.index[mdcv['test-rmse-mean'] == min(mdcv['test-rmse-mean'])][0]\n",
    "\n",
    "    if min_rmse < best_rmse:\n",
    "        best_rmse = min_rmse\n",
    "        best_rmse_index = min_rmse_index\n",
    "        best_seednumber = seed_number\n",
    "        best_param = param\n",
    "        \n",
    "print('best_round = %d, best_seednumber = %d' %(best_rmse_index,best_seednumber))\n",
    "print('best_param', best_param)"
   ]
  },
  {
   "cell_type": "markdown",
   "metadata": {},
   "source": [
    "#### 5.3.3.3 Tune *max_depth*,  *min_child_weight* using **GridSearchCV**."
   ]
  },
  {
   "cell_type": "code",
   "execution_count": 60,
   "metadata": {},
   "outputs": [
    {
     "name": "stdout",
     "output_type": "stream",
     "text": [
      "Fitting 3 folds for each of 6 candidates, totalling 18 fits\n"
     ]
    },
    {
     "name": "stderr",
     "output_type": "stream",
     "text": [
      "[Parallel(n_jobs=4)]: Done  18 out of  18 | elapsed: 33.0min finished\n"
     ]
    },
    {
     "name": "stdout",
     "output_type": "stream",
     "text": [
      "Best Parameter：{'max_depth': 7, 'min_child_weight': 33}\n",
      "R2:0.74319506742227\n"
     ]
    },
    {
     "name": "stderr",
     "output_type": "stream",
     "text": [
      "/Users/xiaoyun/anaconda3/lib/python3.6/site-packages/sklearn/model_selection/_search.py:761: DeprecationWarning: The grid_scores_ attribute was deprecated in version 0.18 in favor of the more elaborate cv_results_ attribute. The grid_scores_ attribute will not be available from 0.20\n",
      "  DeprecationWarning)\n"
     ]
    }
   ],
   "source": [
    "from sklearn.model_selection import GridSearchCV\n",
    "cv_params = {'max_depth': [6, 7], 'min_child_weight': [27,30,33]}\n",
    "\n",
    "other_params = {'learning_rate': 0.3, 'n_estimators': 120, 'seed': 0,'max_depth': 6, 'min_child_weight': 35,\n",
    "                    'subsample': 0.8, 'colsample_bytree': 0.9,  'reg_alpha': 0, 'reg_lambda': 1}\n",
    "model = xgb.XGBRegressor(**other_params)\n",
    "optimized_GBM = GridSearchCV(estimator=model, param_grid=cv_params, scoring='r2', cv=3, verbose=1, n_jobs=4)\n",
    "optimized_GBM.fit(X_train_t, Y_train_t)\n",
    "evalute_result = optimized_GBM.grid_scores_\n",
    "print('Best Parameter：{0}'.format(optimized_GBM.best_params_))\n",
    "print('R2:{0}'.format(optimized_GBM.best_score_))"
   ]
  },
  {
   "cell_type": "markdown",
   "metadata": {},
   "source": [
    "### 5.3.4 Use the best parameters to fit the model"
   ]
  },
  {
   "cell_type": "code",
   "execution_count": 22,
   "metadata": {
    "scrolled": true
   },
   "outputs": [
    {
     "name": "stdout",
     "output_type": "stream",
     "text": [
      "[0]\ttrain-rmse:4.22166\tvalid-rmse:4.221\n",
      "Multiple eval metrics have been passed: 'valid-rmse' will be used for early stopping.\n",
      "\n",
      "Will train until valid-rmse hasn't improved in 10 rounds.\n",
      "[10]\ttrain-rmse:0.42308\tvalid-rmse:0.431673\n",
      "[20]\ttrain-rmse:0.376246\tvalid-rmse:0.389523\n",
      "[30]\ttrain-rmse:0.36549\tvalid-rmse:0.38299\n",
      "[40]\ttrain-rmse:0.357978\tvalid-rmse:0.378538\n",
      "[50]\ttrain-rmse:0.352149\tvalid-rmse:0.376226\n",
      "[60]\ttrain-rmse:0.344\tvalid-rmse:0.372395\n",
      "[70]\ttrain-rmse:0.340499\tvalid-rmse:0.372588\n",
      "Stopping. Best iteration:\n",
      "[62]\ttrain-rmse:0.343344\tvalid-rmse:0.372207\n",
      "\n"
     ]
    }
   ],
   "source": [
    "xgb_pars = {'min_child_weight': 30, 'eta': 0.3, 'colsample_bytree': 0.9, \n",
    "                       'max_depth': 6,\n",
    "                       'subsample': 0.8, 'lambda': 1., 'nthread': -1, 'booster' : 'gbtree', 'silent': 1,\n",
    "                       'eval_metric': 'rmse', 'objective': 'reg:linear'}\n",
    "xgb_model = xgb.train(xgb_pars, dtrain, 120, watchlist, early_stopping_rounds=10,\n",
    "                 maximize=False, verbose_eval=10)"
   ]
  },
  {
   "cell_type": "markdown",
   "metadata": {},
   "source": [
    "### 5.3.5  Feature importance plots"
   ]
  },
  {
   "cell_type": "code",
   "execution_count": 23,
   "metadata": {
    "scrolled": true
   },
   "outputs": [
    {
     "data": {
      "text/plain": [
       "<matplotlib.axes._subplots.AxesSubplot at 0x1a1ade2ba8>"
      ]
     },
     "execution_count": 23,
     "metadata": {},
     "output_type": "execute_result"
    },
    {
     "data": {
      "image/png": "[encoded data removed]",
      "text/plain": [
       "<Figure size 1152x720 with 1 Axes>"
      ]
     },
     "metadata": {},
     "output_type": "display_data"
    }
   ],
   "source": [
    "plt.rcParams['figure.figsize'] = [16, 10]\n",
    "xgb.plot_importance(xgb_model, max_num_features=35, height=0.7)"
   ]
  },
  {
   "cell_type": "markdown",
   "metadata": {},
   "source": [
    "### 5.3.6 Prediction"
   ]
  },
  {
   "cell_type": "code",
   "execution_count": 26,
   "metadata": {
    "scrolled": true
   },
   "outputs": [
    {
     "name": "stdout",
     "output_type": "stream",
     "text": [
      "0.3673575795688253\n"
     ]
    }
   ],
   "source": [
    "# get predicted duration\n",
    "pred = xgb_model.predict(dtest) \n",
    "pred = np.exp(pred) -1\n",
    "# get real dutation\n",
    "Y_real =  np.exp(Y_testing) -1\n",
    "\n",
    "print(np.sqrt(mean_squared_log_error(Y_real, pred )))"
   ]
  },
  {
   "cell_type": "markdown",
   "metadata": {},
   "source": [
    "When I tune the parameters, I found although tuning parameters could help improve the performance of the model but it could only improve the model a little bit. Adding right features could improve in a more efficient way. "
   ]
  },
  {
   "cell_type": "code",
   "execution_count": 32,
   "metadata": {},
   "outputs": [],
   "source": [
    "xgb = pd.concat([Y_real, pd.DataFrame(pred)], axis=1)  \n",
    "#xgb['trip_duration'] = submission.apply(lambda x : 1 if (x['trip_duration'] <= 0) else x['trip_duration'], axis = 1)  \n",
    "#xgb.to_csv(\"xgb.csv\", index=False)  "
   ]
  },
  {
   "cell_type": "markdown",
   "metadata": {},
   "source": [
    "## 5.4 Back-Propagation Neural Network "
   ]
  },
  {
   "cell_type": "markdown",
   "metadata": {},
   "source": [
    "In this part, we tried to build Back-Propagation(BP) neural network to estimate the duration of taxi trip.\n",
    "\n",
    "### 5.4.1 Prepare data"
   ]
  },
  {
   "cell_type": "code",
   "execution_count": 3,
   "metadata": {},
   "outputs": [],
   "source": [
    "def prepare_data(data):\n",
    "    # drop useless columns\n",
    "    dataset = data.drop(['date_of_year', 'date_of_year2', 'mo','da','trip_distance','speed'], axis = 1)\n",
    "    dataset.loc[dataset.Parallel_Distance.isnull(), 'Parallel_Distance'] = dataset[dataset['Parallel_Distance'].isnull()]['distance_in_km'].values\n",
    "    return dataset\n",
    "dataset = prepare_data(taxi_data)\n",
    "# dataset.describe()"
   ]
  },
  {
   "cell_type": "markdown",
   "metadata": {},
   "source": [
    "### 5.4.2 Transform variables for the model"
   ]
  },
  {
   "cell_type": "markdown",
   "metadata": {},
   "source": [
    "#### 5.4.2.1 Time\n",
    "We extracted new two varaibles: hour and weekday from `pickup_datetime`. In terms of EA, these two features have siginificant impact on the taxi trip duration. "
   ]
  },
  {
   "cell_type": "code",
   "execution_count": 4,
   "metadata": {
    "scrolled": true
   },
   "outputs": [
    {
     "data": {
      "text/html": [
       "<div>\n",
       "<style scoped>\n",
       "    .dataframe tbody tr th:only-of-type {\n",
       "        vertical-align: middle;\n",
       "    }\n",
       "\n",
       "    .dataframe tbody tr th {\n",
       "        vertical-align: top;\n",
       "    }\n",
       "\n",
       "    .dataframe thead th {\n",
       "        text-align: right;\n",
       "    }\n",
       "</style>\n",
       "<table border=\"1\" class=\"dataframe\">\n",
       "  <thead>\n",
       "    <tr style=\"text-align: right;\">\n",
       "      <th></th>\n",
       "      <th>travel_time</th>\n",
       "      <th>pickup_latitude</th>\n",
       "      <th>pickup_longitude</th>\n",
       "      <th>dropoff_latitude</th>\n",
       "      <th>dropoff_longitude</th>\n",
       "      <th>passenger_count</th>\n",
       "      <th>distance_in_km</th>\n",
       "      <th>Parallel_Distance</th>\n",
       "      <th>drop_PEN_DISTANCE</th>\n",
       "      <th>drop_LAG_DISTANCE</th>\n",
       "      <th>drop_JFK_DISTANCE</th>\n",
       "      <th>drop_CSMK_DISTANCE</th>\n",
       "      <th>drop_MMOA_DISTANCE</th>\n",
       "      <th>pick_PEN_DISTANCE</th>\n",
       "      <th>pick_LAG_DISTANCE</th>\n",
       "      <th>pick_JFK_DISTANCE</th>\n",
       "      <th>pick_CSMK_DISTANCE</th>\n",
       "      <th>pick_MMOA_DISTANCE</th>\n",
       "      <th>temp</th>\n",
       "      <th>visib</th>\n",
       "      <th>wdsp</th>\n",
       "      <th>gust</th>\n",
       "      <th>max</th>\n",
       "      <th>min</th>\n",
       "      <th>prcp</th>\n",
       "      <th>sndp</th>\n",
       "      <th>fog</th>\n",
       "      <th>rain_drizzle</th>\n",
       "      <th>snow_ice_pellets</th>\n",
       "      <th>hail</th>\n",
       "      <th>thunder</th>\n",
       "      <th>common_holiday</th>\n",
       "      <th>key_holiday</th>\n",
       "      <th>logrtn</th>\n",
       "      <th>pickup_hour</th>\n",
       "      <th>pickup_weekday</th>\n",
       "    </tr>\n",
       "  </thead>\n",
       "  <tbody>\n",
       "    <tr>\n",
       "      <th>0</th>\n",
       "      <td>1770</td>\n",
       "      <td>40.769695</td>\n",
       "      <td>-73.863449</td>\n",
       "      <td>40.746578</td>\n",
       "      <td>-73.996208</td>\n",
       "      <td>1</td>\n",
       "      <td>11.458089</td>\n",
       "      <td>13.735808</td>\n",
       "      <td>0.524982</td>\n",
       "      <td>10.801247</td>\n",
       "      <td>21.271635</td>\n",
       "      <td>0.914609</td>\n",
       "      <td>4.608698</td>\n",
       "      <td>11.175251</td>\n",
       "      <td>0.934677</td>\n",
       "      <td>15.451244</td>\n",
       "      <td>12.351773</td>\n",
       "      <td>8.351602</td>\n",
       "      <td>63.8</td>\n",
       "      <td>10.0</td>\n",
       "      <td>2.8</td>\n",
       "      <td>999.9</td>\n",
       "      <td>82.0</td>\n",
       "      <td>44.1</td>\n",
       "      <td>0.0</td>\n",
       "      <td>999.9</td>\n",
       "      <td>0</td>\n",
       "      <td>0</td>\n",
       "      <td>0</td>\n",
       "      <td>0</td>\n",
       "      <td>0</td>\n",
       "      <td>0</td>\n",
       "      <td>0</td>\n",
       "      <td>0.651973</td>\n",
       "      <td>19</td>\n",
       "      <td>1</td>\n",
       "    </tr>\n",
       "  </tbody>\n",
       "</table>\n",
       "</div>"
      ],
      "text/plain": [
       "   travel_time  pickup_latitude  pickup_longitude  dropoff_latitude  \\\n",
       "0         1770        40.769695        -73.863449         40.746578   \n",
       "\n",
       "   dropoff_longitude  passenger_count  distance_in_km  Parallel_Distance  \\\n",
       "0         -73.996208                1       11.458089          13.735808   \n",
       "\n",
       "   drop_PEN_DISTANCE  drop_LAG_DISTANCE  drop_JFK_DISTANCE  \\\n",
       "0           0.524982          10.801247          21.271635   \n",
       "\n",
       "   drop_CSMK_DISTANCE  drop_MMOA_DISTANCE  pick_PEN_DISTANCE  \\\n",
       "0            0.914609            4.608698          11.175251   \n",
       "\n",
       "   pick_LAG_DISTANCE  pick_JFK_DISTANCE  pick_CSMK_DISTANCE  \\\n",
       "0           0.934677          15.451244           12.351773   \n",
       "\n",
       "   pick_MMOA_DISTANCE  temp  visib  wdsp   gust   max   min  prcp   sndp  fog  \\\n",
       "0            8.351602  63.8   10.0   2.8  999.9  82.0  44.1   0.0  999.9    0   \n",
       "\n",
       "   rain_drizzle  snow_ice_pellets  hail  thunder  common_holiday  key_holiday  \\\n",
       "0             0                 0     0        0               0            0   \n",
       "\n",
       "     logrtn  pickup_hour  pickup_weekday  \n",
       "0  0.651973           19               1  "
      ]
     },
     "execution_count": 4,
     "metadata": {},
     "output_type": "execute_result"
    }
   ],
   "source": [
    "# extracted new two varaibles: hour and weekday\n",
    "def Extract_Time (data):\n",
    "    data['pickup_datetime'] = pd.to_datetime(data.pickup_datetime)  \n",
    "    data.loc[:,'pickup_hour'] =  data['pickup_datetime'].dt.hour\n",
    "    data.loc[:,'pickup_weekday'] =  data['pickup_datetime'].dt.weekday+1\n",
    "    # as datetime cannot be used directly, drop it\n",
    "    data = data.drop(['pickup_datetime'], axis = 1)\n",
    "    return(data)\n",
    "  \n",
    "dataset = Extract_Time(dataset)\n",
    "dataset.head(1)"
   ]
  },
  {
   "cell_type": "markdown",
   "metadata": {},
   "source": [
    "#### 2.2 Convert categorical variables to dummy bariables"
   ]
  },
  {
   "cell_type": "code",
   "execution_count": 5,
   "metadata": {},
   "outputs": [
    {
     "data": {
      "text/html": [
       "<div>\n",
       "<style scoped>\n",
       "    .dataframe tbody tr th:only-of-type {\n",
       "        vertical-align: middle;\n",
       "    }\n",
       "\n",
       "    .dataframe tbody tr th {\n",
       "        vertical-align: top;\n",
       "    }\n",
       "\n",
       "    .dataframe thead th {\n",
       "        text-align: right;\n",
       "    }\n",
       "</style>\n",
       "<table border=\"1\" class=\"dataframe\">\n",
       "  <thead>\n",
       "    <tr style=\"text-align: right;\">\n",
       "      <th></th>\n",
       "      <th>travel_time</th>\n",
       "      <th>pickup_latitude</th>\n",
       "      <th>pickup_longitude</th>\n",
       "      <th>dropoff_latitude</th>\n",
       "      <th>dropoff_longitude</th>\n",
       "      <th>distance_in_km</th>\n",
       "      <th>Parallel_Distance</th>\n",
       "      <th>drop_PEN_DISTANCE</th>\n",
       "      <th>drop_LAG_DISTANCE</th>\n",
       "      <th>drop_JFK_DISTANCE</th>\n",
       "      <th>drop_CSMK_DISTANCE</th>\n",
       "      <th>drop_MMOA_DISTANCE</th>\n",
       "      <th>pick_PEN_DISTANCE</th>\n",
       "      <th>pick_LAG_DISTANCE</th>\n",
       "      <th>pick_JFK_DISTANCE</th>\n",
       "      <th>pick_CSMK_DISTANCE</th>\n",
       "      <th>pick_MMOA_DISTANCE</th>\n",
       "      <th>temp</th>\n",
       "      <th>visib</th>\n",
       "      <th>wdsp</th>\n",
       "      <th>gust</th>\n",
       "      <th>max</th>\n",
       "      <th>min</th>\n",
       "      <th>prcp</th>\n",
       "      <th>sndp</th>\n",
       "      <th>fog</th>\n",
       "      <th>rain_drizzle</th>\n",
       "      <th>snow_ice_pellets</th>\n",
       "      <th>hail</th>\n",
       "      <th>thunder</th>\n",
       "      <th>common_holiday</th>\n",
       "      <th>key_holiday</th>\n",
       "      <th>logrtn</th>\n",
       "      <th>pc_0</th>\n",
       "      <th>pc_1</th>\n",
       "      <th>pc_2</th>\n",
       "      <th>pc_3</th>\n",
       "      <th>pc_4</th>\n",
       "      <th>pc_5</th>\n",
       "      <th>pc_6</th>\n",
       "      <th>pc_7</th>\n",
       "      <th>pc_8</th>\n",
       "      <th>pc_9</th>\n",
       "      <th>h_0</th>\n",
       "      <th>h_1</th>\n",
       "      <th>h_2</th>\n",
       "      <th>h_3</th>\n",
       "      <th>h_4</th>\n",
       "      <th>h_5</th>\n",
       "      <th>h_6</th>\n",
       "      <th>h_7</th>\n",
       "      <th>h_8</th>\n",
       "      <th>h_9</th>\n",
       "      <th>h_10</th>\n",
       "      <th>h_11</th>\n",
       "      <th>h_12</th>\n",
       "      <th>h_13</th>\n",
       "      <th>h_14</th>\n",
       "      <th>h_15</th>\n",
       "      <th>h_16</th>\n",
       "      <th>h_17</th>\n",
       "      <th>h_18</th>\n",
       "      <th>h_19</th>\n",
       "      <th>h_20</th>\n",
       "      <th>h_21</th>\n",
       "      <th>h_22</th>\n",
       "      <th>h_23</th>\n",
       "      <th>dow_1</th>\n",
       "      <th>dow_2</th>\n",
       "      <th>dow_3</th>\n",
       "      <th>dow_4</th>\n",
       "      <th>dow_5</th>\n",
       "      <th>dow_6</th>\n",
       "      <th>dow_7</th>\n",
       "    </tr>\n",
       "  </thead>\n",
       "  <tbody>\n",
       "    <tr>\n",
       "      <th>0</th>\n",
       "      <td>1770</td>\n",
       "      <td>40.769695</td>\n",
       "      <td>-73.863449</td>\n",
       "      <td>40.746578</td>\n",
       "      <td>-73.996208</td>\n",
       "      <td>11.458089</td>\n",
       "      <td>13.735808</td>\n",
       "      <td>0.524982</td>\n",
       "      <td>10.801247</td>\n",
       "      <td>21.271635</td>\n",
       "      <td>0.914609</td>\n",
       "      <td>4.608698</td>\n",
       "      <td>11.175251</td>\n",
       "      <td>0.934677</td>\n",
       "      <td>15.451244</td>\n",
       "      <td>12.351773</td>\n",
       "      <td>8.351602</td>\n",
       "      <td>63.8</td>\n",
       "      <td>10.0</td>\n",
       "      <td>2.8</td>\n",
       "      <td>999.9</td>\n",
       "      <td>82.0</td>\n",
       "      <td>44.1</td>\n",
       "      <td>0.0</td>\n",
       "      <td>999.9</td>\n",
       "      <td>0</td>\n",
       "      <td>0</td>\n",
       "      <td>0</td>\n",
       "      <td>0</td>\n",
       "      <td>0</td>\n",
       "      <td>0</td>\n",
       "      <td>0</td>\n",
       "      <td>0.651973</td>\n",
       "      <td>0</td>\n",
       "      <td>1</td>\n",
       "      <td>0</td>\n",
       "      <td>0</td>\n",
       "      <td>0</td>\n",
       "      <td>0</td>\n",
       "      <td>0</td>\n",
       "      <td>0</td>\n",
       "      <td>0</td>\n",
       "      <td>0</td>\n",
       "      <td>0</td>\n",
       "      <td>0</td>\n",
       "      <td>0</td>\n",
       "      <td>0</td>\n",
       "      <td>0</td>\n",
       "      <td>0</td>\n",
       "      <td>0</td>\n",
       "      <td>0</td>\n",
       "      <td>0</td>\n",
       "      <td>0</td>\n",
       "      <td>0</td>\n",
       "      <td>0</td>\n",
       "      <td>0</td>\n",
       "      <td>0</td>\n",
       "      <td>0</td>\n",
       "      <td>0</td>\n",
       "      <td>0</td>\n",
       "      <td>0</td>\n",
       "      <td>0</td>\n",
       "      <td>1</td>\n",
       "      <td>0</td>\n",
       "      <td>0</td>\n",
       "      <td>0</td>\n",
       "      <td>0</td>\n",
       "      <td>1</td>\n",
       "      <td>0</td>\n",
       "      <td>0</td>\n",
       "      <td>0</td>\n",
       "      <td>0</td>\n",
       "      <td>0</td>\n",
       "      <td>0</td>\n",
       "    </tr>\n",
       "  </tbody>\n",
       "</table>\n",
       "</div>"
      ],
      "text/plain": [
       "   travel_time  pickup_latitude  pickup_longitude  dropoff_latitude  \\\n",
       "0         1770        40.769695        -73.863449         40.746578   \n",
       "\n",
       "   dropoff_longitude  distance_in_km  Parallel_Distance  drop_PEN_DISTANCE  \\\n",
       "0         -73.996208       11.458089          13.735808           0.524982   \n",
       "\n",
       "   drop_LAG_DISTANCE  drop_JFK_DISTANCE  drop_CSMK_DISTANCE  \\\n",
       "0          10.801247          21.271635            0.914609   \n",
       "\n",
       "   drop_MMOA_DISTANCE  pick_PEN_DISTANCE  pick_LAG_DISTANCE  \\\n",
       "0            4.608698          11.175251           0.934677   \n",
       "\n",
       "   pick_JFK_DISTANCE  pick_CSMK_DISTANCE  pick_MMOA_DISTANCE  temp  visib  \\\n",
       "0          15.451244           12.351773            8.351602  63.8   10.0   \n",
       "\n",
       "   wdsp   gust   max   min  prcp   sndp  fog  rain_drizzle  snow_ice_pellets  \\\n",
       "0   2.8  999.9  82.0  44.1   0.0  999.9    0             0                 0   \n",
       "\n",
       "   hail  thunder  common_holiday  key_holiday    logrtn  pc_0  pc_1  pc_2  \\\n",
       "0     0        0               0            0  0.651973     0     1     0   \n",
       "\n",
       "   pc_3  pc_4  pc_5  pc_6  pc_7  pc_8  pc_9  h_0  h_1  h_2  h_3  h_4  h_5  \\\n",
       "0     0     0     0     0     0     0     0    0    0    0    0    0    0   \n",
       "\n",
       "   h_6  h_7  h_8  h_9  h_10  h_11  h_12  h_13  h_14  h_15  h_16  h_17  h_18  \\\n",
       "0    0    0    0    0     0     0     0     0     0     0     0     0     0   \n",
       "\n",
       "   h_19  h_20  h_21  h_22  h_23  dow_1  dow_2  dow_3  dow_4  dow_5  dow_6  \\\n",
       "0     1     0     0     0     0      1      0      0      0      0      0   \n",
       "\n",
       "   dow_7  \n",
       "0      0  "
      ]
     },
     "execution_count": 5,
     "metadata": {},
     "output_type": "execute_result"
    }
   ],
   "source": [
    "# Transfrom categorical variables into dummy variables using one hot encode\n",
    "def Dummy_One_Hot (data):\n",
    "    passenger_count = pd.get_dummies(data['passenger_count'], prefix='pc', prefix_sep='_')  \n",
    "    hour = pd.get_dummies(data['pickup_hour'], prefix='h', prefix_sep='_')  \n",
    "    dow = pd.get_dummies(data['pickup_weekday'], prefix='dow', prefix_sep='_') \n",
    "    # drop unnecessary variables\n",
    "    data = data.drop(['passenger_count','pickup_hour','pickup_weekday'], axis=1)\n",
    "    # merge dummy variables to the origin dataset\n",
    "    data = pd.concat([data,  passenger_count, hour, dow], axis=1)\n",
    "    \n",
    "    return(data)\n",
    "\n",
    "dataset = Dummy_One_Hot(dataset)\n",
    "dataset.head(1)"
   ]
  },
  {
   "cell_type": "code",
   "execution_count": 6,
   "metadata": {},
   "outputs": [],
   "source": [
    "# dataset.shape"
   ]
  },
  {
   "cell_type": "markdown",
   "metadata": {},
   "source": [
    "### 5.4.3 Train model\n",
    "#### 5.4.3.1 Split data\n",
    "We first splited data into training and testing data (80%, 20%)."
   ]
  },
  {
   "cell_type": "code",
   "execution_count": 6,
   "metadata": {
    "scrolled": true
   },
   "outputs": [],
   "source": [
    "train, test  = train_test_split(dataset, test_size=0.2, random_state=535)\n",
    "def Split_x_y(data):\n",
    "    X = data.values[:, 1:dataset.shape[1]]\n",
    "    Y = data.values[:, 0]\n",
    "    return X, Y\n",
    "test_x, test_y = Split_x_y(test)"
   ]
  },
  {
   "cell_type": "markdown",
   "metadata": {},
   "source": [
    "#### 5.4.3.2 Tune Model\n",
    "In this part, we tried to find proper parameters, such as the number of network layers, nodes on each layer, epochs,  and batch size, by using `GridSearchCV()`.\n",
    "Here is the param seach range:\n",
    "```\n",
    "{'nodes_num': [[256], [256, 128], [512], [128, 256], [128, 512], [512, 128], [128, 256, 64]], \n",
    " 'batch_size': [10,50,100],\n",
    " 'epochs': [30, 50, 100]}\n",
    "```"
   ]
  },
  {
   "cell_type": "code",
   "execution_count": null,
   "metadata": {},
   "outputs": [],
   "source": [
    "\"\"\"\n",
    "# select a small sample for tune\n",
    "index = np.random.choice(train.shape[0], 50000, replace=False)\n",
    "sample=train.values[index]\n",
    "\n",
    "# split into input (X) and output (Y) variables\n",
    "X = sample[:, 1:dataset.shape[1]]\n",
    "Y = sample[:, 0]\n",
    "X.shape\n",
    "\"\"\""
   ]
  },
  {
   "cell_type": "code",
   "execution_count": null,
   "metadata": {},
   "outputs": [],
   "source": [
    "# evaluate using 5-fold cross validation\n",
    "# kfold = KFold(n_splits=5, shuffle=True)\n",
    "# results = cross_val_score(model, X, Y, cv=kfold)\n",
    "# print(\"Result: %.2f (%.2f) MSLE\" % (results.mean(), results.std()))"
   ]
  },
  {
   "cell_type": "code",
   "execution_count": null,
   "metadata": {
    "scrolled": true
   },
   "outputs": [],
   "source": [
    "# Proper Parameters Search\n",
    "\"\"\"\n",
    "    First Try:\n",
    "    grid_params = {'nodes_num': [[256], [256, 128],[512],[128, 256]], 'batch_size': [10,50,100], 'epochs': [30, 50, 100]}\n",
    "    The best param:\n",
    "    {'batch_size': 50, 'nodes_num': [128, 256]}\n",
    "\"\"\"\n",
    "# grid_params = {'nodes_num': [[256], [256, 128],[512],[128, 256]], 'batch_size': [10,50,100], 'epochs': [30, 50, 100]}\n",
    "\"\"\"\n",
    "grid_result = My_GridSearchCV(grid_params, X, Y)\n",
    "# summarize results\n",
    "Summary_GridResult(grid_result)\n",
    "\"\"\""
   ]
  },
  {
   "cell_type": "code",
   "execution_count": null,
   "metadata": {},
   "outputs": [],
   "source": [
    "\"\"\"\n",
    "    Second Try:\n",
    "    grid_params = {'nodes_num': [[128, 256], [128, 512], [512, 128]]}\n",
    "    The best param:\n",
    "    {'batch_size': 50, 'nodes_num': [128, 256]}\n",
    "\"\"\"\n",
    "# grid_params = {'nodes_num': [128, 256]}\n",
    "\"\"\"\n",
    "grid_result = My_GridSearchCV(grid_params, X, Y)\n",
    "# summarize results\n",
    "Summary_GridResult(grid_result)\n",
    "\"\"\""
   ]
  },
  {
   "cell_type": "code",
   "execution_count": null,
   "metadata": {
    "scrolled": true
   },
   "outputs": [],
   "source": [
    "\"\"\"\n",
    "    Third Try:\n",
    "    grid_params = {'nodes_num': [[128, 256], [128, 256, 64]]}\n",
    "    The best param:\n",
    "    {'batch_size': 50, 'nodes_num': [128, 256, 64]}\n",
    "\"\"\"\n",
    "# grid_params = {'nodes_num': [[128, 256], [128, 256, 64]]}\n",
    "\"\"\"\n",
    "grid_result = My_GridSearchCV(grid_params, X, Y)\n",
    "# summarize results\n",
    "Summary_GridResult(grid_result)\n",
    "\"\"\""
   ]
  },
  {
   "cell_type": "markdown",
   "metadata": {},
   "source": [
    "Finally, we decided to make hidden layers as [128, 256, 64], batch_size equal to 50, total epochs equal to 50. Except the output layer, the activation function of all other leayers is Relu. MSLE is the loss function chosen to minimize."
   ]
  },
  {
   "cell_type": "markdown",
   "metadata": {},
   "source": [
    "#### 5.4.3.3 Build BP NN\n",
    "According to the result of GridSearchCv, we used the best parameter to build BP NN. Besides we used `Dropout()` to avoid overfitting."
   ]
  },
  {
   "cell_type": "code",
   "execution_count": 8,
   "metadata": {},
   "outputs": [],
   "source": [
    "# Split train into two parts again\n",
    "train_build, train_valid = train_test_split(train, test_size=0.2, random_state=535)\n",
    "train_build_x, train_build_y = Split_x_y(train_build)\n",
    "train_valid_x, train_valid_y = Split_x_y(train_valid)"
   ]
  },
  {
   "cell_type": "code",
   "execution_count": 74,
   "metadata": {
    "scrolled": true
   },
   "outputs": [
    {
     "name": "stdout",
     "output_type": "stream",
     "text": [
      "Train on 346844 samples, validate on 86711 samples\n",
      "Epoch 1/50\n",
      " - 45s - loss: 0.3001 - rmsle_loss: 0.3870 - val_loss: 0.2078 - val_rmsle_loss: 0.3434\n",
      "Epoch 2/50\n",
      " - 44s - loss: 0.1987 - rmsle_loss: 0.3319 - val_loss: 0.2002 - val_rmsle_loss: 0.3299\n",
      "Epoch 3/50\n",
      " - 45s - loss: 0.1897 - rmsle_loss: 0.3225 - val_loss: 0.1739 - val_rmsle_loss: 0.3084\n",
      "Epoch 4/50\n",
      " - 45s - loss: 0.1836 - rmsle_loss: 0.3161 - val_loss: 0.1745 - val_rmsle_loss: 0.3064\n",
      "Epoch 5/50\n",
      " - 45s - loss: 0.1799 - rmsle_loss: 0.3125 - val_loss: 0.1733 - val_rmsle_loss: 0.3068\n",
      "Epoch 6/50\n",
      " - 46s - loss: 0.1772 - rmsle_loss: 0.3096 - val_loss: 0.1673 - val_rmsle_loss: 0.2995\n",
      "Epoch 7/50\n",
      " - 45s - loss: 0.1752 - rmsle_loss: 0.3075 - val_loss: 0.1723 - val_rmsle_loss: 0.3065\n",
      "Epoch 8/50\n",
      " - 45s - loss: 0.1733 - rmsle_loss: 0.3057 - val_loss: 0.1756 - val_rmsle_loss: 0.3101\n",
      "Epoch 9/50\n",
      " - 46s - loss: 0.1723 - rmsle_loss: 0.3045 - val_loss: 0.1739 - val_rmsle_loss: 0.3047\n",
      "Epoch 10/50\n",
      " - 45s - loss: 0.1709 - rmsle_loss: 0.3027 - val_loss: 0.1643 - val_rmsle_loss: 0.2977\n",
      "Epoch 11/50\n",
      " - 45s - loss: 0.1702 - rmsle_loss: 0.3020 - val_loss: 0.1672 - val_rmsle_loss: 0.3010\n",
      "Epoch 12/50\n",
      " - 45s - loss: 0.1695 - rmsle_loss: 0.3015 - val_loss: 0.1721 - val_rmsle_loss: 0.3070\n",
      "Epoch 13/50\n",
      " - 45s - loss: 0.1691 - rmsle_loss: 0.3006 - val_loss: 0.1658 - val_rmsle_loss: 0.2992\n",
      "Epoch 14/50\n",
      " - 45s - loss: 0.1683 - rmsle_loss: 0.2998 - val_loss: 0.1625 - val_rmsle_loss: 0.2952\n",
      "Epoch 15/50\n",
      " - 44s - loss: 0.1674 - rmsle_loss: 0.2991 - val_loss: 0.1672 - val_rmsle_loss: 0.3004\n",
      "Epoch 16/50\n",
      " - 44s - loss: 0.1671 - rmsle_loss: 0.2986 - val_loss: 0.1681 - val_rmsle_loss: 0.3034\n",
      "Epoch 17/50\n",
      " - 45s - loss: 0.1665 - rmsle_loss: 0.2978 - val_loss: 0.1586 - val_rmsle_loss: 0.2910\n",
      "Epoch 18/50\n",
      " - 44s - loss: 0.1657 - rmsle_loss: 0.2972 - val_loss: 0.1647 - val_rmsle_loss: 0.2980\n",
      "Epoch 19/50\n",
      " - 45s - loss: 0.1657 - rmsle_loss: 0.2969 - val_loss: 0.1607 - val_rmsle_loss: 0.2929\n",
      "Epoch 20/50\n",
      " - 45s - loss: 0.1651 - rmsle_loss: 0.2963 - val_loss: 0.1620 - val_rmsle_loss: 0.2924\n",
      "Epoch 21/50\n",
      " - 46s - loss: 0.1649 - rmsle_loss: 0.2961 - val_loss: 0.1624 - val_rmsle_loss: 0.2964\n",
      "Epoch 22/50\n",
      " - 46s - loss: 0.1643 - rmsle_loss: 0.2956 - val_loss: 0.1607 - val_rmsle_loss: 0.2919\n",
      "Epoch 23/50\n",
      " - 45s - loss: 0.1639 - rmsle_loss: 0.2953 - val_loss: 0.1593 - val_rmsle_loss: 0.2913\n",
      "Epoch 24/50\n",
      " - 46s - loss: 0.1633 - rmsle_loss: 0.2943 - val_loss: 0.1723 - val_rmsle_loss: 0.3078\n",
      "Epoch 25/50\n",
      " - 47s - loss: 0.1634 - rmsle_loss: 0.2945 - val_loss: 0.1630 - val_rmsle_loss: 0.2963\n",
      "Epoch 26/50\n",
      " - 45s - loss: 0.1630 - rmsle_loss: 0.2940 - val_loss: 0.1691 - val_rmsle_loss: 0.3048\n",
      "Epoch 27/50\n",
      " - 47s - loss: 0.1622 - rmsle_loss: 0.2934 - val_loss: 0.1607 - val_rmsle_loss: 0.2922\n",
      "Epoch 28/50\n",
      " - 47s - loss: 0.1622 - rmsle_loss: 0.2934 - val_loss: 0.1606 - val_rmsle_loss: 0.2939\n",
      "Epoch 29/50\n",
      " - 46s - loss: 0.1617 - rmsle_loss: 0.2931 - val_loss: 0.1651 - val_rmsle_loss: 0.2989\n",
      "Epoch 30/50\n",
      " - 45s - loss: 0.1614 - rmsle_loss: 0.2926 - val_loss: 0.1633 - val_rmsle_loss: 0.2972\n",
      "Epoch 31/50\n",
      " - 45s - loss: 0.1616 - rmsle_loss: 0.2924 - val_loss: 0.1679 - val_rmsle_loss: 0.3027\n",
      "Epoch 32/50\n",
      " - 44s - loss: 0.1608 - rmsle_loss: 0.2919 - val_loss: 0.1858 - val_rmsle_loss: 0.3190\n",
      "Epoch 33/50\n",
      " - 45s - loss: 0.1606 - rmsle_loss: 0.2916 - val_loss: 0.1564 - val_rmsle_loss: 0.2888\n",
      "Epoch 34/50\n",
      " - 45s - loss: 0.1605 - rmsle_loss: 0.2916 - val_loss: 0.1726 - val_rmsle_loss: 0.3088\n",
      "Epoch 35/50\n",
      " - 44s - loss: 0.1604 - rmsle_loss: 0.2915 - val_loss: 0.1549 - val_rmsle_loss: 0.2866\n",
      "Epoch 36/50\n",
      " - 44s - loss: 0.1596 - rmsle_loss: 0.2907 - val_loss: 0.1609 - val_rmsle_loss: 0.2933\n",
      "Epoch 37/50\n",
      " - 44s - loss: 0.1594 - rmsle_loss: 0.2904 - val_loss: 0.1649 - val_rmsle_loss: 0.3002\n",
      "Epoch 38/50\n",
      " - 44s - loss: 0.1595 - rmsle_loss: 0.2905 - val_loss: 0.1594 - val_rmsle_loss: 0.2909\n",
      "Epoch 39/50\n",
      " - 44s - loss: 0.1592 - rmsle_loss: 0.2903 - val_loss: 0.1666 - val_rmsle_loss: 0.3025\n",
      "Epoch 40/50\n",
      " - 45s - loss: 0.1586 - rmsle_loss: 0.2899 - val_loss: 0.1597 - val_rmsle_loss: 0.2921\n",
      "Epoch 41/50\n",
      " - 45s - loss: 0.1588 - rmsle_loss: 0.2898 - val_loss: 0.1629 - val_rmsle_loss: 0.2978\n",
      "Epoch 42/50\n",
      " - 45s - loss: 0.1586 - rmsle_loss: 0.2895 - val_loss: 0.1626 - val_rmsle_loss: 0.2961\n",
      "Epoch 43/50\n",
      " - 45s - loss: 0.1580 - rmsle_loss: 0.2890 - val_loss: 0.1625 - val_rmsle_loss: 0.2957\n",
      "Epoch 44/50\n",
      " - 44s - loss: 0.1583 - rmsle_loss: 0.2892 - val_loss: 0.1538 - val_rmsle_loss: 0.2849\n",
      "Epoch 45/50\n",
      " - 44s - loss: 0.1598 - rmsle_loss: 0.2904 - val_loss: 0.1599 - val_rmsle_loss: 0.2927\n",
      "Epoch 46/50\n",
      " - 46s - loss: 0.1591 - rmsle_loss: 0.2899 - val_loss: 0.1522 - val_rmsle_loss: 0.2832\n",
      "Epoch 47/50\n",
      " - 45s - loss: 0.1586 - rmsle_loss: 0.2896 - val_loss: 0.1561 - val_rmsle_loss: 0.2891\n",
      "Epoch 48/50\n",
      " - 44s - loss: 0.1578 - rmsle_loss: 0.2889 - val_loss: 0.1551 - val_rmsle_loss: 0.2870\n",
      "Epoch 49/50\n",
      " - 44s - loss: 0.1575 - rmsle_loss: 0.2884 - val_loss: 0.1540 - val_rmsle_loss: 0.2861\n",
      "Epoch 50/50\n",
      " - 44s - loss: 0.1577 - rmsle_loss: 0.2885 - val_loss: 0.1511 - val_rmsle_loss: 0.2819\n"
     ]
    }
   ],
   "source": [
    "def Build_Model(input_dim = (dataset.shape[1]-1), nodes_num=[128, 256, 64], \n",
    "                lr=0.0008, decay=0.0, dropout = 0.1):\n",
    "    n = len(nodes_num)\n",
    "    # create model\n",
    "    model = Sequential()\n",
    "    for i in range(n):\n",
    "        if i == 0:\n",
    "            model.add(Dense(nodes_num[i], input_dim=input_dim, activation='relu', kernel_initializer='normal'))\n",
    "            model.add(Dropout(dropout))\n",
    "        else :\n",
    "            model.add(Dense(nodes_num[i], activation='relu', kernel_initializer='normal'))\n",
    "    model.add(Dense(1, kernel_initializer='normal'))\n",
    "    # plot model \n",
    "    plot_model(model, to_file='../img/model.png', show_shapes=True, show_layer_names=True)\n",
    "    # set learing rate\n",
    "    adam = optimizers.Adam(lr=lr, decay=decay)\n",
    "    # Compile model\n",
    "    model.compile(loss=losses.mean_squared_logarithmic_error, optimizer=adam, metrics=[rmsle_loss])\n",
    "    return model\n",
    "model =  Build_Model()\n",
    "bp_result = model.fit(train_build_x, train_build_y, validation_data=(train_valid_x, train_valid_y), epochs=50, batch_size=50, verbose=2)"
   ]
  },
  {
   "cell_type": "markdown",
   "metadata": {},
   "source": [
    "Here is our final BP NN model.\n",
    "<img src=\"../img/model.png\">"
   ]
  },
  {
   "cell_type": "code",
   "execution_count": 76,
   "metadata": {},
   "outputs": [
    {
     "data": {
      "text/plain": [
       "[<matplotlib.lines.Line2D at 0x1abc8a9c50>]"
      ]
     },
     "execution_count": 76,
     "metadata": {},
     "output_type": "execute_result"
    },
    {
     "data": {
      "text/plain": [
       "[<matplotlib.lines.Line2D at 0x1abc8a84e0>]"
      ]
     },
     "execution_count": 76,
     "metadata": {},
     "output_type": "execute_result"
    },
    {
     "data": {
      "text/plain": [
       "Text(0.5, 1.0, 'Model loss')"
      ]
     },
     "execution_count": 76,
     "metadata": {},
     "output_type": "execute_result"
    },
    {
     "data": {
      "text/plain": [
       "Text(0, 0.5, 'RMSLE_Loss')"
      ]
     },
     "execution_count": 76,
     "metadata": {},
     "output_type": "execute_result"
    },
    {
     "data": {
      "text/plain": [
       "Text(0.5, 0, 'Epoch')"
      ]
     },
     "execution_count": 76,
     "metadata": {},
     "output_type": "execute_result"
    },
    {
     "data": {
      "text/plain": [
       "<matplotlib.legend.Legend at 0x1abc899748>"
      ]
     },
     "execution_count": 76,
     "metadata": {},
     "output_type": "execute_result"
    },
    {
     "data": {
      "image/png": "[encoded data removed]",
      "text/plain": [
       "<Figure size 432x288 with 1 Axes>"
      ]
     },
     "metadata": {
      "needs_background": "light"
     },
     "output_type": "display_data"
    }
   ],
   "source": [
    "# Plot training & validation loss values\n",
    "plt.plot(bp_result.history['rmsle_loss'])\n",
    "plt.plot(bp_result.history['val_rmsle_loss'])\n",
    "plt.title('Model loss')\n",
    "plt.ylabel('RMSLE_Loss')\n",
    "plt.xlabel('Epoch')\n",
    "plt.legend(['Train', 'Test'], loc='upper left')\n",
    "plt.show()"
   ]
  },
  {
   "cell_type": "code",
   "execution_count": 82,
   "metadata": {},
   "outputs": [],
   "source": [
    "# save the model to disk\n",
    "filename = '../img/finalized_model.h5'\n",
    "# model.save(filename)"
   ]
  },
  {
   "cell_type": "markdown",
   "metadata": {},
   "source": [
    "### 5.4.4 Prediction"
   ]
  },
  {
   "cell_type": "code",
   "execution_count": 11,
   "metadata": {},
   "outputs": [],
   "source": [
    "# load the model from disk with custom objects\n",
    "# filename = '../img/finalized_model.h5'\n",
    "filename = 'finalized_model.h5'\n",
    "loaded_model = load_model(filename , custom_objects={'rmsle_loss': rmsle_loss})\n",
    "\n",
    "# loaded_model\n",
    "adam = optimizers.Adam(lr=0.0008)\n",
    "loaded_model.compile(loss=losses.mean_squared_logarithmic_error, optimizer=adam, metrics=[rmsle_loss])"
   ]
  },
  {
   "cell_type": "code",
   "execution_count": 13,
   "metadata": {
    "scrolled": true
   },
   "outputs": [],
   "source": [
    "# predict\n",
    "y_pred = loaded_model.predict(test_x)"
   ]
  },
  {
   "cell_type": "code",
   "execution_count": 15,
   "metadata": {},
   "outputs": [
    {
     "data": {
      "text/plain": [
       "0.3866344918259829"
      ]
     },
     "execution_count": 15,
     "metadata": {},
     "output_type": "execute_result"
    }
   ],
   "source": [
    "np.sqrt(mean_squared_log_error(test_y, y_pred))"
   ]
  },
  {
   "cell_type": "markdown",
   "metadata": {},
   "source": [
    "The RMSLE of the prediction on `test` calculated by our final BP NN model is 0.3866."
   ]
  },
  {
   "cell_type": "code",
   "execution_count": 44,
   "metadata": {},
   "outputs": [],
   "source": [
    "# Save the result to disk as csv\n",
    "y = list(x[0] for x in y_pred)\n",
    "result_dict = {'true_value': test_y, 'prediction': y}\n",
    "nn = pd.DataFrame(result_dict)\n",
    "\n",
    "#result.to_csv('NN_pred_result.csv', index = False)"
   ]
  },
  {
   "cell_type": "markdown",
   "metadata": {},
   "source": [
    "# Step 6 Performance Comparison"
   ]
  },
  {
   "cell_type": "markdown",
   "metadata": {},
   "source": [
    "## 6.1 Combine the predictions"
   ]
  },
  {
   "cell_type": "code",
   "execution_count": 33,
   "metadata": {},
   "outputs": [],
   "source": [
    "import os\n",
    "from math import radians, cos, sin, asin, sqrt\n",
    "import pandas as pd\n",
    "import numpy as np\n",
    "import matplotlib.pyplot as plt\n",
    "from sklearn.cluster import MiniBatchKMeans \n",
    "import xgboost as xgb\n",
    "from datetime import datetime  \n",
    "from sklearn.model_selection import train_test_split\n",
    "import random\n",
    "from sklearn.metrics import mean_squared_error\n",
    "import seaborn as sns\n",
    "import matplotlib\n",
    "from sklearn.metrics import mean_squared_log_error\n",
    "from sklearn.metrics import r2_score\n",
    "from sklearn.metrics import mean_squared_error"
   ]
  },
  {
   "cell_type": "code",
   "execution_count": 35,
   "metadata": {
    "scrolled": true
   },
   "outputs": [
    {
     "data": {
      "text/html": [
       "<div>\n",
       "<style scoped>\n",
       "    .dataframe tbody tr th:only-of-type {\n",
       "        vertical-align: middle;\n",
       "    }\n",
       "\n",
       "    .dataframe tbody tr th {\n",
       "        vertical-align: top;\n",
       "    }\n",
       "\n",
       "    .dataframe thead th {\n",
       "        text-align: right;\n",
       "    }\n",
       "</style>\n",
       "<table border=\"1\" class=\"dataframe\">\n",
       "  <thead>\n",
       "    <tr style=\"text-align: right;\">\n",
       "      <th></th>\n",
       "      <th>true_value</th>\n",
       "      <th>predictions-BPNN</th>\n",
       "      <th>predictions-XGB</th>\n",
       "      <th>predictions-decistion tree</th>\n",
       "      <th>predictions-lasso</th>\n",
       "    </tr>\n",
       "  </thead>\n",
       "  <tbody>\n",
       "    <tr>\n",
       "      <th>0</th>\n",
       "      <td>908.0</td>\n",
       "      <td>650.063477</td>\n",
       "      <td>584.07965</td>\n",
       "      <td>771.000000</td>\n",
       "      <td>712.928525</td>\n",
       "    </tr>\n",
       "    <tr>\n",
       "      <th>1</th>\n",
       "      <td>631.0</td>\n",
       "      <td>716.676331</td>\n",
       "      <td>723.05096</td>\n",
       "      <td>798.348438</td>\n",
       "      <td>593.960674</td>\n",
       "    </tr>\n",
       "    <tr>\n",
       "      <th>2</th>\n",
       "      <td>895.0</td>\n",
       "      <td>741.166199</td>\n",
       "      <td>671.48780</td>\n",
       "      <td>760.395062</td>\n",
       "      <td>661.742954</td>\n",
       "    </tr>\n",
       "    <tr>\n",
       "      <th>3</th>\n",
       "      <td>520.0</td>\n",
       "      <td>651.872925</td>\n",
       "      <td>791.06506</td>\n",
       "      <td>681.160045</td>\n",
       "      <td>596.717028</td>\n",
       "    </tr>\n",
       "    <tr>\n",
       "      <th>4</th>\n",
       "      <td>587.0</td>\n",
       "      <td>694.319397</td>\n",
       "      <td>724.22720</td>\n",
       "      <td>895.048780</td>\n",
       "      <td>873.868564</td>\n",
       "    </tr>\n",
       "  </tbody>\n",
       "</table>\n",
       "</div>"
      ],
      "text/plain": [
       "   true_value  predictions-BPNN  predictions-XGB  predictions-decistion tree  \\\n",
       "0       908.0        650.063477        584.07965                  771.000000   \n",
       "1       631.0        716.676331        723.05096                  798.348438   \n",
       "2       895.0        741.166199        671.48780                  760.395062   \n",
       "3       520.0        651.872925        791.06506                  681.160045   \n",
       "4       587.0        694.319397        724.22720                  895.048780   \n",
       "\n",
       "   predictions-lasso  \n",
       "0         712.928525  \n",
       "1         593.960674  \n",
       "2         661.742954  \n",
       "3         596.717028  \n",
       "4         873.868564  "
      ]
     },
     "execution_count": 35,
     "metadata": {},
     "output_type": "execute_result"
    }
   ],
   "source": [
    "predictions = pd.concat([bp,xgb[\"predictions-XGB\"]  ,\n",
    "                          dtree[\"predictions-decistion tree\"],\n",
    "                          lasso[\"predictions-lasso\"]], axis=1)\n",
    "predictions.head()"
   ]
  },
  {
   "cell_type": "markdown",
   "metadata": {},
   "source": [
    "## 6.2 Compare RMSLE, RMSE, R2"
   ]
  },
  {
   "cell_type": "code",
   "execution_count": 19,
   "metadata": {},
   "outputs": [],
   "source": [
    "# 这里的code删除的\n",
    "xgb = pd.read_csv(\"xgb.csv\") \n",
    "xgb = xgb.rename(columns = {'0':'predictions-XGB'})\n",
    "bp = pd.read_csv(\"nn.csv\") \n",
    "bp = bp.rename(columns = {'prediction':'predictions-BPNN'})\n",
    "dtree = pd.read_csv(\"dtree.csv\") \n",
    "dtree = dtree.rename(columns = {'0':'predictions-decistion tree'})\n",
    "lasso = pd.read_csv(\"lasso.csv\") \n",
    "lasso = lasso.rename(columns = {'travel_time_prediction':'predictions-lasso'})"
   ]
  },
  {
   "cell_type": "code",
   "execution_count": 58,
   "metadata": {
    "scrolled": true
   },
   "outputs": [
    {
     "data": {
      "text/html": [
       "<div>\n",
       "<style scoped>\n",
       "    .dataframe tbody tr th:only-of-type {\n",
       "        vertical-align: middle;\n",
       "    }\n",
       "\n",
       "    .dataframe tbody tr th {\n",
       "        vertical-align: top;\n",
       "    }\n",
       "\n",
       "    .dataframe thead th {\n",
       "        text-align: right;\n",
       "    }\n",
       "</style>\n",
       "<table border=\"1\" class=\"dataframe\">\n",
       "  <thead>\n",
       "    <tr style=\"text-align: right;\">\n",
       "      <th></th>\n",
       "      <th>Model</th>\n",
       "      <th>RMSLE</th>\n",
       "      <th>RMSE</th>\n",
       "      <th>R2</th>\n",
       "    </tr>\n",
       "  </thead>\n",
       "  <tbody>\n",
       "    <tr>\n",
       "      <th>0</th>\n",
       "      <td>XGB</td>\n",
       "      <td>0.367358</td>\n",
       "      <td>329.674870</td>\n",
       "      <td>0.752061</td>\n",
       "    </tr>\n",
       "    <tr>\n",
       "      <th>1</th>\n",
       "      <td>BP NN</td>\n",
       "      <td>0.386634</td>\n",
       "      <td>344.554001</td>\n",
       "      <td>0.729176</td>\n",
       "    </tr>\n",
       "    <tr>\n",
       "      <th>2</th>\n",
       "      <td>Decision Tree</td>\n",
       "      <td>0.435618</td>\n",
       "      <td>385.296722</td>\n",
       "      <td>0.661340</td>\n",
       "    </tr>\n",
       "    <tr>\n",
       "      <th>3</th>\n",
       "      <td>Lasso</td>\n",
       "      <td>0.532144</td>\n",
       "      <td>419.219418</td>\n",
       "      <td>0.599082</td>\n",
       "    </tr>\n",
       "  </tbody>\n",
       "</table>\n",
       "</div>"
      ],
      "text/plain": [
       "           Model     RMSLE        RMSE        R2\n",
       "0            XGB  0.367358  329.674870  0.752061\n",
       "1          BP NN  0.386634  344.554001  0.729176\n",
       "2  Decision Tree  0.435618  385.296722  0.661340\n",
       "3          Lasso  0.532144  419.219418  0.599082"
      ]
     },
     "execution_count": 58,
     "metadata": {},
     "output_type": "execute_result"
    }
   ],
   "source": [
    "result_compare = modelcompare(xgb,bp,dtree,lasso)\n",
    "result_compare"
   ]
  },
  {
   "cell_type": "markdown",
   "metadata": {},
   "source": [
    "# Step 7 Important Features"
   ]
  },
  {
   "cell_type": "markdown",
   "metadata": {},
   "source": [
    "**To conclude, the distance plays a important role in deciding the travel time. Te be more specific, the travel distance and the distance to the main hub of communication: for example, the JFK airport, LaGuardia Airport, Penn station, Metropolitan museum and Chelsea market will determine the length of travel time.**\n",
    "\n",
    "**Besides of these, from the importance plot of linear model, extreme weather will influence on the duration of travel.**\n",
    "\n",
    "**From the result of XGboost and decision tree, the log return of stock market also has relation with the travel time.**\n"
   ]
  },
  {
   "cell_type": "markdown",
   "metadata": {},
   "source": [
    "## 7.1 Important features in XGboost"
   ]
  },
  {
   "cell_type": "code",
   "execution_count": 23,
   "metadata": {
    "scrolled": true
   },
   "outputs": [
    {
     "data": {
      "text/plain": [
       "<matplotlib.axes._subplots.AxesSubplot at 0x1a1ade2ba8>"
      ]
     },
     "execution_count": 23,
     "metadata": {},
     "output_type": "execute_result"
    },
    {
     "data": {
      "image/png": "[encoded data removed]",
      "text/plain": [
       "<Figure size 1152x720 with 1 Axes>"
      ]
     },
     "metadata": {},
     "output_type": "display_data"
    }
   ],
   "source": [
    "plt.rcParams['figure.figsize'] = [16, 10]\n",
    "xgb.plot_importance(xgb_model, max_num_features=35, height=0.7)"
   ]
  },
  {
   "cell_type": "markdown",
   "metadata": {},
   "source": [
    "## 7.2 Important features in Decision Tree"
   ]
  },
  {
   "cell_type": "code",
   "execution_count": 83,
   "metadata": {},
   "outputs": [
    {
     "data": {
      "text/plain": [
       "([<matplotlib.axis.YTick at 0x1a1bdf5cf8>,\n",
       "  <matplotlib.axis.YTick at 0x1a1beb4b38>,\n",
       "  <matplotlib.axis.YTick at 0x1a1beaba20>,\n",
       "  <matplotlib.axis.YTick at 0x1a1bdc6668>,\n",
       "  <matplotlib.axis.YTick at 0x1a1bdc6cc0>,\n",
       "  <matplotlib.axis.YTick at 0x1a1bdcd358>,\n",
       "  <matplotlib.axis.YTick at 0x1a1bdcd9b0>,\n",
       "  <matplotlib.axis.YTick at 0x1a1bdd3080>,\n",
       "  <matplotlib.axis.YTick at 0x1a1bdd3710>,\n",
       "  <matplotlib.axis.YTick at 0x1a1bdd3da0>,\n",
       "  <matplotlib.axis.YTick at 0x1a1bdd9470>,\n",
       "  <matplotlib.axis.YTick at 0x1a1bdd9b00>,\n",
       "  <matplotlib.axis.YTick at 0x1a1bddf1d0>,\n",
       "  <matplotlib.axis.YTick at 0x1a1bddf860>,\n",
       "  <matplotlib.axis.YTick at 0x1a1bddfef0>,\n",
       "  <matplotlib.axis.YTick at 0x1a1bde55c0>],\n",
       " <a list of 16 Text yticklabel objects>)"
      ]
     },
     "execution_count": 83,
     "metadata": {},
     "output_type": "execute_result"
    },
    {
     "data": {
      "image/png": "[encoded data removed]",
      "text/plain": [
       "<matplotlib.figure.Figure at 0x1a1be4e320>"
      ]
     },
     "metadata": {},
     "output_type": "display_data"
    }
   ],
   "source": [
    "import matplotlib.pyplot as plt\n",
    "y = abs(L_model.coef_)\n",
    "coef_ = pd.DataFrame(y)\n",
    "coef_.columns = ['value']\n",
    "coef_['coef'] =  X_test.columns\n",
    "coef_ = coef_.sort_values(ascending=True, by=['value'])\n",
    "\n",
    "x0 = np.linspace(1,16,16)\n",
    "\n",
    "plt.barh(x0, coef_.value)\n",
    "plt.yticks(x0, coef_.coef)"
   ]
  },
  {
   "cell_type": "markdown",
   "metadata": {},
   "source": [
    "## 7.3 Important features in Lasso "
   ]
  },
  {
   "cell_type": "code",
   "execution_count": 25,
   "metadata": {
    "scrolled": true
   },
   "outputs": [
    {
     "data": {
      "image/png": "[encoded data removed]",
      "text/plain": [
       "<matplotlib.figure.Figure at 0x1ee0f942940>"
      ]
     },
     "metadata": {},
     "output_type": "display_data"
    },
    {
     "name": "stdout",
     "output_type": "stream",
     "text": [
      "0    0.094425\n",
      "1    0.061055\n",
      "9    0.055773\n",
      "4    0.054085\n",
      "6    0.047961\n",
      "8    0.045147\n",
      "3    0.044644\n",
      "5    0.043508\n",
      "dtype: float64\n"
     ]
    }
   ],
   "source": [
    "colname = ['distance_in_km','Parallel_Distance','pick_JFK_DISTANCE','drop_JFK_DISTANCE',\n",
    " 'drop_MMOA_DISTANCE','pick_LAG_DISTANCE','drop_LAG_DISTANCE','drop_CSMK_DISTANCE']\n",
    "fidt.nlargest(8).plot(kind='barh')\n",
    "plt.yticks(range(0,8),colname)\n",
    "\n",
    "plt.show()\n",
    "print(fidt.nlargest(8))"
   ]
  },
  {
   "cell_type": "markdown",
   "metadata": {},
   "source": [
    "# Step 8 Extra interesting ideas"
   ]
  },
  {
   "cell_type": "markdown",
   "metadata": {},
   "source": [
    "**Stock prices is influenced by many factors that includes**\n",
    "<br>&emsp;&emsp;**1. Overall performance of the company.**\n",
    "<br>&emsp;&emsp; **2. General environment** \n",
    "<br>&emsp;&emsp;**3. Energy market**\n",
    "\n",
    "**Since NYC is a global hub of finance, these factors may also influence on how people live so we decide to add this factor as a comprehensive factor for duration.**"
   ]
  },
  {
   "cell_type": "code",
   "execution_count": null,
   "metadata": {},
   "outputs": [],
   "source": []
  },
  {
   "cell_type": "code",
   "execution_count": null,
   "metadata": {},
   "outputs": [],
   "source": []
  }
 ],
 "metadata": {
  "kernelspec": {
   "display_name": "Python 3",
   "language": "python",
   "name": "python3"
  },
  "language_info": {
   "codemirror_mode": {
    "name": "ipython",
    "version": 3
   },
   "file_extension": ".py",
   "mimetype": "text/x-python",
   "name": "python",
   "nbconvert_exporter": "python",
   "pygments_lexer": "ipython3",
   "version": "3.6.5"
  },
  "toc": {
   "base_numbering": 1,
   "nav_menu": {
    "height": "592px",
    "width": "568px"
   },
   "number_sections": false,
   "sideBar": true,
   "skip_h1_title": false,
   "title_cell": "Table of Contents",
   "title_sidebar": "Contents",
   "toc_cell": false,
   "toc_position": {
    "height": "calc(100% - 180px)",
    "left": "10px",
    "top": "150px",
    "width": "261px"
   },
   "toc_section_display": true,
   "toc_window_display": true
  }
 },
 "nbformat": 4,
 "nbformat_minor": 2
}
